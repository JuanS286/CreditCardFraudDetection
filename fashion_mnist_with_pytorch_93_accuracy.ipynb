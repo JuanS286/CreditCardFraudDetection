{
  "cells": [
    {
      "cell_type": "markdown",
      "metadata": {
        "id": "view-in-github",
        "colab_type": "text"
      },
      "source": [
        "<a href=\"https://colab.research.google.com/github/nparra75/CreditCardFraudDetection/blob/main/fashion_mnist_with_pytorch_93_accuracy.ipynb\" target=\"_parent\"><img src=\"https://colab.research.google.com/assets/colab-badge.svg\" alt=\"Open In Colab\"/></a>"
      ]
    },
    {
      "cell_type": "markdown",
      "metadata": {
        "id": "2HFPmrVHbOwq"
      },
      "source": [
        "### This is the tutorial of deep learning on FashionMNIST dataset using Pytorch. We will build a Convolutional Neural Network for predicting the classes of Dataset. Neural networks are a class of models inspired by the structure and function of the human brain. They are composed of interconnected nodes called neurons organized into layers. Each neuron receives input, performs a computation, and passes its output to the neurons in the next layer."
      ]
    },
    {
      "cell_type": "markdown",
      "source": [
        "Types of Algorithms used in Deep Learning\n",
        "Here is the list of top 10 most popular deep learning algorithms:\n",
        "\n",
        "Convolutional Neural Networks (CNNs)\n",
        "Long Short Term Memory Networks (LSTMs)\n",
        "Recurrent Neural Networks (RNNs)\n",
        "Generative Adversarial Networks (GANs)\n",
        "Radial Basis Function Networks (RBFNs)\n",
        "Multilayer Perceptrons (MLPs)\n",
        "Self Organizing Maps (SOMs)\n",
        "Deep Belief Networks (DBNs)\n",
        "Restricted Boltzmann Machines( RBMs)\n",
        "Autoencoders"
      ],
      "metadata": {
        "id": "gptVD-n1E-hS"
      }
    },
    {
      "cell_type": "markdown",
      "metadata": {
        "id": "1rm65OztSCpF"
      },
      "source": [
        "# **Importing Important Libraries**"
      ]
    },
    {
      "cell_type": "markdown",
      "source": [
        "`import torch`: This imports the PyTorch library. PyTorch is an open-source deep learning framework developed by Facebook's AI Research lab.\n",
        " `import torch.nn as nn`: This imports the neural network module (`nn`) from PyTorch. It provides various classes and functions for building neural networks.\n",
        "`from torch.autograd import Variable`: This imports the `Variable` class from the `autograd` module in PyTorch. `Variable` is a wrapper around tensors that allows automatic differentiation, which is crucial for training neural networks.\n",
        "\n",
        "`import torchvision`: This imports the torchvision library, which provides datasets, model architectures, and utilities for working with computer vision tasks in PyTorch.\n",
        "\n",
        " `import torchvision.transforms as transforms`: This imports the `transforms` module from torchvision. Transformations are used to preprocess data before feeding it into the neural network.\n",
        "\n",
        "`from torch.utils.data import Dataset, DataLoader`: This imports the `Dataset` and `DataLoader` classes from the `utils.data` module in PyTorch. They are used for creating custom datasets and data loaders, respectively.\n",
        " A data loader can be used in a loop to iterate over batches of data"
      ],
      "metadata": {
        "id": "NT47Ty8Gclnx"
      }
    },
    {
      "cell_type": "code",
      "execution_count": null,
      "metadata": {
        "id": "-1_8VZgpEtea"
      },
      "outputs": [],
      "source": [
        "import numpy as np\n",
        "import pandas as pd\n",
        "import matplotlib.pyplot as plt\n",
        "\n",
        "import torch\n",
        "import torch.nn as nn\n",
        "from torch.autograd import Variable\n",
        "\n",
        "import torchvision\n",
        "import torchvision.transforms as transforms\n",
        "from torch.utils.data import Dataset, DataLoader\n",
        "from sklearn.metrics import confusion_matrix"
      ]
    },
    {
      "cell_type": "markdown",
      "metadata": {
        "id": "s6bjL6wESfoV"
      },
      "source": [
        "### If the GPU is available use it for the computation otherwise use the CPU. GPUs, or Graphics Processing Units, are specialized hardware units originally designed for rendering graphics in computer games and multimedia applications. However, due to their highly parallel architecture, they have found extensive use in various computational tasks, including machine learning and deep learning."
      ]
    },
    {
      "cell_type": "code",
      "execution_count": null,
      "metadata": {
        "id": "q6btjJ9YTXXw"
      },
      "outputs": [],
      "source": [
        "device = torch.device(\"cuda:0\" if torch.cuda.is_available() else \"cpu\")"
      ]
    },
    {
      "cell_type": "markdown",
      "source": [
        "CUDA, or Compute Unified Device Architecture, is a parallel computing platform and programming model developed by NVIDIA. It allows developers to use NVIDIA graphics processing units (GPUs) for general-purpose processing, including complex mathematical computations and data processing tasks."
      ],
      "metadata": {
        "id": "Atp_Yo0zf0NX"
      }
    },
    {
      "cell_type": "markdown",
      "metadata": {
        "id": "CGIhqokgSv1W"
      },
      "source": [
        "\n",
        "\n",
        "1. **Class Definition**:\n",
        "   ```python\n",
        "   class FashionDataset(Dataset):\n",
        "   ```\n",
        "   - This line defines a new class named `FashionDataset`. The class inherits from PyTorch's `Dataset` class, indicating that it will be used to create a custom dataset compatible with PyTorch's data loading utilities.\n",
        "\n",
        "2. **Class Documentation**:\n",
        "   ```python\n",
        "   \"\"\"User defined class to build a datset using Pytorch class Dataset.\"\"\"\n",
        "   ```\n",
        "   - This is a docstring, providing a brief description of the purpose of the class. It explains that the class is used to build a dataset using PyTorch's `Dataset` class.\n",
        "\n",
        "3. **Initialization Method (`__init__`)**:\n",
        "   ```python\n",
        "   def __init__(self, data, transform=None):\n",
        "   ```\n",
        "   - This method is called when an instance of the class is created.\n",
        "   - It takes two parameters: `data`, which represents the dataset, and `transform`, which is an optional parameter for data transformations.\n",
        "   \n",
        "4. **Data Processing**:\n",
        "   ```python\n",
        "   self.fashion_MNIST = list(data.values)\n",
        "   ```\n",
        "   - Converts the input data (assumed to be in dictionary format) into a list.\n",
        "   \n",
        "   ```python\n",
        "   label = []\n",
        "   image = []\n",
        "   for i in self.fashion_MNIST:\n",
        "       label.append(i[0])\n",
        "       image.append(i[1:])\n",
        "   ```\n",
        "   - Separates the labels and images from the input data.\n",
        "   \n",
        "   ```python\n",
        "   self.labels = np.asarray(label)\n",
        "   self.images = np.asarray(image).reshape(-1, 28, 28, 1).astype('float32')\n",
        "   ```\n",
        "   - Converts the labels and images into NumPy arrays.\n",
        "   - Reshapes the images into the required format of (batch_size, height, width, channels) where each image is of size 28x28 with 1 channel (grayscale).\n",
        "   \n",
        "5. **Get Item Method (`__getitem__`)**:\n",
        "   ```python\n",
        "   def __getitem__(self, index):\n",
        "   ```\n",
        "   - This method retrieves an item (image and label) from the dataset based on the provided index.\n",
        "   \n",
        "   ```python\n",
        "   label = self.labels[index]\n",
        "   image = self.images[index]\n",
        "   ```\n",
        "   - Retrieves the label and image corresponding to the given index.\n",
        "   \n",
        "   ```python\n",
        "   if self.transform is not None:\n",
        "       image = self.transform(image)\n",
        "   ```\n",
        "   - Applies any specified transformations to the image using the `transform` parameter.\n",
        "   \n",
        "   ```python\n",
        "   return image, label\n",
        "   ```\n",
        "   - Returns the image and label as a tuple.\n",
        "   \n",
        "6. **Length Method (`__len__`)**:\n",
        "   ```python\n",
        "   def __len__(self):\n",
        "   ```\n",
        "   - This method returns the total number of images in the dataset.\n",
        "   \n",
        "   ```python\n",
        "   return len(self.images)\n",
        "   ```\n",
        "   - Returns the length of the dataset, which is equal to the number of images.\n",
        "\n",
        "This class can be used to create a custom dataset for Fashion MNIST images, which can then be loaded into a PyTorch DataLoader for training neural networks or other machine learning tasks.\n",
        "\n",
        "\n",
        "\n"
      ]
    },
    {
      "cell_type": "code",
      "execution_count": null,
      "metadata": {
        "id": "3Q36xjPfeo0a"
      },
      "outputs": [],
      "source": [
        "class FashionDataset(Dataset):\n",
        "    \"\"\"User defined class to build a dataset using Pytorch class Dataset.\"\"\"\n",
        "\n",
        "    def __init__(self, data, transform = None):\n",
        "        \"\"\"Method to initilaize variables.\"\"\"\n",
        "        self.fashion_MNIST = list(data.values)\n",
        "        self.transform = transform\n",
        "\n",
        "        label = []\n",
        "        image = []\n",
        "\n",
        "        for i in self.fashion_MNIST:\n",
        "             # first column is of labels.\n",
        "            label.append(i[0])\n",
        "            image.append(i[1:])\n",
        "        self.labels = np.asarray(label)\n",
        "        # Dimension of Images = 28 * 28 * 1. where height = width = 28 and color_channels = 1.\n",
        "        self.images = np.asarray(image).reshape(-1, 28, 28, 1).astype('float32')\n",
        "\n",
        "    def __getitem__(self, index):\n",
        "        label = self.labels[index]\n",
        "        image = self.images[index]\n",
        "\n",
        "        if self.transform is not None:\n",
        "            image = self.transform(image)\n",
        "\n",
        "        return image, label\n",
        "\n",
        "    def __len__(self):\n",
        "        return len(self.images)"
      ]
    },
    {
      "cell_type": "markdown",
      "metadata": {
        "id": "VePPK186m6iS"
      },
      "source": [
        "### 2. Using FashionMNIST class from torchvision module.\n",
        "\n",
        "\n",
        "*   It will download the dataset first time.\n",
        "\n",
        "\n"
      ]
    },
    {
      "cell_type": "code",
      "execution_count": null,
      "metadata": {
        "id": "zM618_wYGM0n"
      },
      "outputs": [],
      "source": [
        "train_set = torchvision.datasets.FashionMNIST(\"./data\", download=True, transform=\n",
        "                                                transforms.Compose([transforms.ToTensor()]))\n",
        "test_set = torchvision.datasets.FashionMNIST(\"./data\", download=True, train=False, transform=\n",
        "                                               transforms.Compose([transforms.ToTensor()]))\n"
      ]
    },
    {
      "cell_type": "code",
      "execution_count": null,
      "metadata": {
        "id": "8s2uhlGJZOOP"
      },
      "outputs": [],
      "source": [
        "train_loader = torch.utils.data.DataLoader(train_set,\n",
        "                                           batch_size=100)\n",
        "test_loader = torch.utils.data.DataLoader(test_set,\n",
        "                                          batch_size=100)\n"
      ]
    },
    {
      "cell_type": "markdown",
      "metadata": {
        "id": "4SfsxOX4peHU"
      },
      "source": [
        "### We have 10 types of clothes in FashionMNIST dataset.\n",
        "\n",
        "\n",
        "> Making a method that return the name of class for the label number.\n",
        "ex. if the label is 5, we return Sandal.\n",
        "\n"
      ]
    },
    {
      "cell_type": "code",
      "execution_count": null,
      "metadata": {
        "id": "uWIE3hVqOlMi"
      },
      "outputs": [],
      "source": [
        "def output_label(label):\n",
        "    output_mapping = {\n",
        "                 0: \"T-shirt/Top\",\n",
        "                 1: \"Trouser\",\n",
        "                 2: \"Pullover\",\n",
        "                 3: \"Dress\",\n",
        "                 4: \"Coat\",\n",
        "                 5: \"Sandal\",\n",
        "                 6: \"Shirt\",\n",
        "                 7: \"Sneaker\",\n",
        "                 8: \"Bag\",\n",
        "                 9: \"Ankle Boot\"\n",
        "                 }\n",
        "    input = (label.item() if type(label) == torch.Tensor else label)\n",
        "    return output_mapping[input]"
      ]
    },
    {
      "cell_type": "markdown",
      "source": [
        "This function `output_label` is designed to map numerical labels to their corresponding textual descriptions based on a predefined mapping dictionary. Here's an explanation of the code:\n",
        "\n",
        "1. **Function Definition**:\n",
        "   ```python\n",
        "   def output_label(label):\n",
        "   ```\n",
        "   - This line defines a function named `output_label` that takes a single parameter `label`.\n",
        "\n",
        "2. **Output Mapping Dictionary**:\n",
        "   ```python\n",
        "   output_mapping = {\n",
        "       0: \"T-shirt/Top\",\n",
        "       1: \"Trouser\",\n",
        "       2: \"Pullover\",\n",
        "       3: \"Dress\",\n",
        "       4: \"Coat\",\n",
        "       5: \"Sandal\",\n",
        "       6: \"Shirt\",\n",
        "       7: \"Sneaker\",\n",
        "       8: \"Bag\",\n",
        "       9: \"Ankle Boot\"\n",
        "   }\n",
        "   ```\n",
        "   - This dictionary maps numerical labels (0 to 9) to their corresponding textual descriptions.\n",
        "\n",
        "3. **Label Extraction**:\n",
        "   ```python\n",
        "   input = (label.item() if type(label) == torch.Tensor else label)\n",
        "   ```\n",
        "   - This line extracts the numerical label from the input parameter.\n",
        "   - If the input is a PyTorch tensor, it uses the `.item()` method to retrieve the numerical value. Otherwise, it assumes the input is already a numerical label.\n",
        "\n",
        "4. **Label Mapping**:\n",
        "   ```python\n",
        "   return output_mapping[input]\n",
        "   ```\n",
        "   - This line returns the textual description corresponding to the input numerical label based on the mapping dictionary.\n",
        "   - For example, if the input label is `1`, it returns `\"Trouser\"`.\n",
        "\n"
      ],
      "metadata": {
        "id": "RbPxKUn8l-l9"
      }
    },
    {
      "cell_type": "markdown",
      "metadata": {
        "id": "yDH7i5UFo7w3"
      },
      "source": [
        "### Playing with data and displaying some images using matplotlib imshow() method.\n",
        "\n",
        "\n",
        "\n"
      ]
    },
    {
      "cell_type": "code",
      "execution_count": null,
      "metadata": {
        "colab": {
          "base_uri": "https://localhost:8080/",
          "height": 35
        },
        "id": "RB9jenaDYZmt",
        "outputId": "3d8212d3-3cbf-4e30-b369-e6ede4ad6350"
      },
      "outputs": [
        {
          "data": {
            "text/plain": [
              "torch.Size([100, 1, 28, 28])"
            ]
          },
          "execution_count": 8,
          "metadata": {},
          "output_type": "execute_result"
        }
      ],
      "source": [
        "a = next(iter(train_loader))\n",
        "a[0].size()"
      ]
    },
    {
      "cell_type": "markdown",
      "source": [
        "fetching the first batch of data from the train_loader DataLoader object and then accessing the size of the input data (images) in the first batch"
      ],
      "metadata": {
        "id": "Vw8mSUAxpo7q"
      }
    },
    {
      "cell_type": "code",
      "execution_count": null,
      "metadata": {
        "colab": {
          "base_uri": "https://localhost:8080/",
          "height": 35
        },
        "id": "D-PnIoRpjuZW",
        "outputId": "cff25b7c-a4c6-42ea-81d1-43a4789959bc"
      },
      "outputs": [
        {
          "data": {
            "text/plain": [
              "60000"
            ]
          },
          "execution_count": 9,
          "metadata": {},
          "output_type": "execute_result"
        }
      ],
      "source": [
        "len(train_set)"
      ]
    },
    {
      "cell_type": "code",
      "execution_count": null,
      "metadata": {
        "colab": {
          "base_uri": "https://localhost:8080/",
          "height": 287
        },
        "id": "2kC6CrJrlbf_",
        "outputId": "2eefede6-0e54-4512-b6a8-1c17eb42286a"
      },
      "outputs": [
        {
          "name": "stdout",
          "output_type": "stream",
          "text": [
            "9\n"
          ]
        },
        {
          "data": {
            "image/png": "[encoded data removed]",
            "text/plain": [
              "<Figure size 640x480 with 1 Axes>"
            ]
          },
          "metadata": {},
          "output_type": "display_data"
        }
      ],
      "source": [
        "image, label = next(iter(train_set))\n",
        "plt.imshow(image.squeeze(), cmap=\"gray\")\n",
        "print(label)"
      ]
    },
    {
      "cell_type": "markdown",
      "source": [
        " fetch a single data sample (image and label) from the `train_set` dataset and then visualize the image using matplotlib's `imshow()` function.\n",
        "\n",
        "1. `image, label = next(iter(train_set))`:\n",
        "   - This line fetches a single data sample (image and label) from the `train_set` dataset.\n",
        "   - It uses `iter(train_set)` to create an iterator from the dataset and `next()` to fetch the next item from the iterator.\n",
        "   \n",
        "2. `plt.imshow(image.squeeze(), cmap=\"gray\")`:\n",
        "   - This line visualizes the fetched image using matplotlib's `imshow()` function.\n",
        "  \n"
      ],
      "metadata": {
        "id": "lAeYyDz5p4FL"
      }
    },
    {
      "cell_type": "code",
      "execution_count": null,
      "metadata": {
        "colab": {
          "base_uri": "https://localhost:8080/",
          "height": 54
        },
        "id": "sgpYsgh0PY09",
        "outputId": "4d00bf1d-fb85-4e2a-bb21-067e75360637"
      },
      "outputs": [
        {
          "name": "stdout",
          "output_type": "stream",
          "text": [
            "<class 'torch.Tensor'> <class 'torch.Tensor'>\n",
            "torch.Size([10, 1, 28, 28]) torch.Size([10])\n"
          ]
        }
      ],
      "source": [
        "demo_loader = torch.utils.data.DataLoader(train_set, batch_size=10)\n",
        "\n",
        "batch = next(iter(demo_loader))\n",
        "images, labels = batch\n",
        "print(type(images), type(labels))\n",
        "print(images.shape, labels.shape)"
      ]
    },
    {
      "cell_type": "markdown",
      "source": [
        " a DataLoader named demo_loader is created from the train_set dataset with a batch size of 10. Then, a single batch of data is fetched from demo_loader using the next() function and printed to examine its structure."
      ],
      "metadata": {
        "id": "msI5zYEesEB9"
      }
    },
    {
      "cell_type": "code",
      "execution_count": null,
      "metadata": {
        "colab": {
          "base_uri": "https://localhost:8080/",
          "height": 158
        },
        "id": "2Z0D4BgQRW8e",
        "outputId": "c33042d3-017f-4dcb-8bf9-244910e2b49e"
      },
      "outputs": [
        {
          "name": "stdout",
          "output_type": "stream",
          "text": [
            "labels:  Ankle Boot, T-shirt/Top, T-shirt/Top, Dress, T-shirt/Top, Pullover, Sneaker, Pullover, Sandal, Sandal, "
          ]
        },
        {
          "data": {
            "image/png": "[encoded data removed]",
            "text/plain": [
              "<Figure size 1500x2000 with 1 Axes>"
            ]
          },
          "metadata": {},
          "output_type": "display_data"
        }
      ],
      "source": [
        "grid = torchvision.utils.make_grid(images, nrow=10)\n",
        "\n",
        "plt.figure(figsize=(15, 20))\n",
        "plt.imshow(np.transpose(grid, (1, 2, 0)))\n",
        "print(\"labels: \", end=\" \")\n",
        "for i, label in enumerate(labels):\n",
        "    print(output_label(label), end=\", \")\n"
      ]
    },
    {
      "cell_type": "markdown",
      "source": [
        "The provided code snippet utilizes torchvision's `make_grid()` function to create a grid of images from a batch of image tensors (`images`). It then visualizes this grid of images using matplotlib. Additionally, it prints out the textual labels corresponding to each image in the batch. Here's a breakdown of the code:\n",
        "\n",
        "```python\n",
        "grid = torchvision.utils.make_grid(images, nrow=10)\n",
        "```\n",
        "- This line uses torchvision's `make_grid()` function to arrange the images in a grid. The `images` tensor, representing a batch of images, is provided as input.\n",
        "- The `nrow` parameter specifies the number of images to display in each row of the grid.\n",
        "\n",
        "```python\n",
        "plt.figure(figsize=(15, 20))\n",
        "```\n",
        "- This line creates a new figure with a specified figure size using matplotlib. The figure size is set to 15x20 inches.\n",
        "\n",
        "```python\n",
        "plt.imshow(np.transpose(grid, (1, 2, 0)))\n",
        "```\n",
        "- This line visualizes the grid of images using matplotlib's `imshow()` function. It transposes the grid tensor using NumPy's `transpose()` function to rearrange the dimensions to match the expected format for displaying images (height x width x channels).\n",
        "\n",
        "```python\n",
        "print(\"labels: \", end=\" \")\n",
        "for i, label in enumerate(labels):\n",
        "    print(output_label(label), end=\", \")\n",
        "```\n",
        "- This code block iterates over the labels in the batch (`labels`) and prints out the corresponding textual labels using the `output_label()` function.\n",
        "- The `enumerate()` function is used to iterate over both the indices and values of the `labels` tensor.\n",
        "- The `output_label()` function is assumed to map numerical labels to their corresponding textual descriptions.\n",
        "\n",
        "By executing these lines of code, you can visualize a grid of images from the batch along with their corresponding textual labels. This provides a convenient way to inspect and understand the content of a batch of images in the dataset.________________________________________________________________________________________"
      ],
      "metadata": {
        "id": "XFWVvq6WsZHr"
      }
    },
    {
      "cell_type": "markdown",
      "metadata": {
        "id": "YM2u0Riup9mx"
      },
      "source": [
        "## Building a CNN\n",
        "\n",
        "\n",
        "*   Make a model class (FashionCNN in our case)\n",
        "    * It inherit nn.Module class that is a super class for all the neural networks in Pytorch.\n",
        "* Our Neural Net has following layers:\n",
        "    * Two Sequential layers each consists of following layers-\n",
        "        * Convolution layer that has kernel size of 3 * 3, padding = 1 (zero_padding) in 1st layer and padding = 0 in second one. Stride of 1 in both layer.\n",
        "        * Batch Normalization layer.\n",
        "        * Acitvation function: ReLU.\n",
        "        * Max Pooling layer with kernel size of 2 * 2 and stride 2.\n",
        "     * Flatten out the output for dense layer(a.k.a. fully connected layer).\n",
        "     * 3 Fully connected layer  with different in/out features.\n",
        "     * 1 Dropout layer that has class probability p = 0.25.\n",
        "  \n",
        "     * All the functionaltiy is given in forward method that defines the forward pass of CNN.\n",
        "     * Our input image is changing in a following way:\n",
        "        * First Convulation layer : input: 28 \\* 28 \\* 3, output: 28 \\* 28 \\* 32\n",
        "        * First Max Pooling layer : input: 28 \\* 28 \\* 32, output: 14 \\* 14 \\* 32\n",
        "        * Second Conv layer : input : 14 \\* 14 \\* 32, output: 12 \\* 12 \\* 64\n",
        "        * Second Max Pooling layer : 12 \\* 12 \\* 64, output:  6 \\* 6 \\* 64\n",
        "    * Final fully connected layer has 10 output features for 10 types of clothes.\n",
        "\n",
        "> Lets implement the network...\n",
        "\n",
        "\n",
        "\n"
      ]
    },
    {
      "cell_type": "code",
      "execution_count": null,
      "metadata": {
        "id": "hyCH0Q4hSgFB"
      },
      "outputs": [],
      "source": [
        "class FashionCNN(nn.Module):\n",
        "\n",
        "    def __init__(self):\n",
        "        super(FashionCNN, self).__init__()\n",
        "\n",
        "        self.layer1 = nn.Sequential(\n",
        "            nn.Conv2d(in_channels=1, out_channels=32, kernel_size=3, padding=1),\n",
        "            nn.BatchNorm2d(32),\n",
        "            nn.ReLU(),\n",
        "            nn.MaxPool2d(kernel_size=2, stride=2)\n",
        "        )\n",
        "\n",
        "        self.layer2 = nn.Sequential(\n",
        "            nn.Conv2d(in_channels=32, out_channels=64, kernel_size=3),\n",
        "            nn.BatchNorm2d(64),\n",
        "            nn.ReLU(),\n",
        "            nn.MaxPool2d(2)\n",
        "        )\n",
        "\n",
        "        self.fc1 = nn.Linear(in_features=64*6*6, out_features=600)\n",
        "        self.drop = nn.Dropout2d(0.25)\n",
        "        self.fc2 = nn.Linear(in_features=600, out_features=120)\n",
        "        self.fc3 = nn.Linear(in_features=120, out_features=10)\n",
        "\n",
        "    def forward(self, x):\n",
        "        out = self.layer1(x)\n",
        "        out = self.layer2(out)\n",
        "        out = out.view(out.size(0), -1)\n",
        "        out = self.fc1(out)\n",
        "        out = self.drop(out)\n",
        "        out = self.fc2(out)\n",
        "        out = self.fc3(out)\n",
        "\n",
        "        return out\n"
      ]
    },
    {
      "cell_type": "markdown",
      "source": [
        "The provided code defines a convolutional neural network (CNN) architecture using PyTorch's `nn.Module` class. Let's break down each part of the code:\n",
        "\n",
        "1. **Class Definition**:\n",
        "   - `class FashionCNN(nn.Module):`: Defines a new class named `FashionCNN` that inherits from PyTorch's `nn.Module` class. This class represents the CNN model architecture.\n",
        "\n",
        "2. **Initialization Method** (`__init__`):\n",
        "   - `def __init__(self):`: Initializes the attributes and layers of the CNN model.\n",
        "   - `super(FashionCNN, self).__init__()`: Calls the constructor of the parent class (`nn.Module`) to initialize the inherited attributes.\n",
        "\n",
        "3. **Layer Definitions**:\n",
        "   - `self.layer1`: Defines the first convolutional layer followed by batch normalization, ReLU activation, and max pooling.\n",
        "     - `nn.Conv2d`: Creates a 2D convolutional layer with specified parameters such as input channels, output channels, kernel size, and padding.\n",
        "     - `nn.BatchNorm2d`: Adds batch normalization to normalize the activations of the previous layer.\n",
        "     - `nn.ReLU`: Applies the Rectified Linear Unit (ReLU) activation function to introduce non-linearity.\n",
        "     - `nn.MaxPool2d`: Performs 2D max pooling to downsample the spatial dimensions of the feature maps.\n",
        "   - `self.layer2`: Defines the second convolutional layer with similar operations as `self.layer1`.\n",
        "   - `self.fc1`, `self.fc2`, `self.fc3`: Define fully connected (linear) layers.\n",
        "     - `nn.Linear`: Creates a fully connected layer with specified input and output features.\n",
        "   - `self.drop`: Defines a dropout layer to prevent overfitting by randomly setting a fraction of input units to zero during training.\n",
        "\n",
        "4. **Forward Method**:\n",
        "   - `def forward(self, x):`: Defines the forward pass of the model.\n",
        "   - `out = self.layer1(x)`: Passes the input `x` through the first convolutional layer and subsequent operations defined in `self.layer1`.\n",
        "   - `out = self.layer2(out)`: Passes the output of `self.layer1` through the second convolutional layer and subsequent operations defined in `self.layer2`.\n",
        "   - `out = out.view(out.size(0), -1)`: Flattens the 4D tensor `out` into a 2D tensor to prepare it for the fully connected layers.\n",
        "   - `out = self.fc1(out)`: Passes the flattened tensor through the first fully connected layer.\n",
        "   - `out = self.drop(out)`: Applies dropout regularization to the output of the first fully connected layer.\n",
        "   - `out = self.fc2(out)`: Passes the output of the dropout layer through the second fully connected layer.\n",
        "   - `out = self.fc3(out)`: Passes the output of the second fully connected layer through the final fully connected layer.\n",
        "   - `return out`: Returns the output tensor.\n",
        "\n"
      ],
      "metadata": {
        "id": "ZxLAr8vj_OvU"
      }
    },
    {
      "cell_type": "markdown",
      "metadata": {
        "id": "0mMVaW_PvCC2"
      },
      "source": [
        "### Making a model of our CNN class\n",
        "\n",
        "*   Creating a object(model in the code)\n",
        "*   Transfering it into GPU if available.\n",
        "*  Defining a Loss function. we're using CrossEntropyLoss() here.\n",
        "*  Using Adam algorithm for optimization purpose.\n",
        "\n"
      ]
    },
    {
      "cell_type": "code",
      "execution_count": null,
      "metadata": {
        "colab": {
          "base_uri": "https://localhost:8080/",
          "height": 345
        },
        "id": "NILDHzNgQ1Gt",
        "outputId": "d16327ae-e7d2-4c46-bffe-e9724272c51d"
      },
      "outputs": [
        {
          "name": "stdout",
          "output_type": "stream",
          "text": [
            "FashionCNN(\n",
            "  (layer1): Sequential(\n",
            "    (0): Conv2d(1, 32, kernel_size=(3, 3), stride=(1, 1), padding=(1, 1))\n",
            "    (1): BatchNorm2d(32, eps=1e-05, momentum=0.1, affine=True, track_running_stats=True)\n",
            "    (2): ReLU()\n",
            "    (3): MaxPool2d(kernel_size=2, stride=2, padding=0, dilation=1, ceil_mode=False)\n",
            "  )\n",
            "  (layer2): Sequential(\n",
            "    (0): Conv2d(32, 64, kernel_size=(3, 3), stride=(1, 1))\n",
            "    (1): BatchNorm2d(64, eps=1e-05, momentum=0.1, affine=True, track_running_stats=True)\n",
            "    (2): ReLU()\n",
            "    (3): MaxPool2d(kernel_size=2, stride=2, padding=0, dilation=1, ceil_mode=False)\n",
            "  )\n",
            "  (fc1): Linear(in_features=2304, out_features=600, bias=True)\n",
            "  (drop): Dropout2d(p=0.25, inplace=False)\n",
            "  (fc2): Linear(in_features=600, out_features=120, bias=True)\n",
            "  (fc3): Linear(in_features=120, out_features=10, bias=True)\n",
            ")\n"
          ]
        }
      ],
      "source": [
        "model = FashionCNN()\n",
        "model.to(device)\n",
        "\n",
        "error = nn.CrossEntropyLoss()\n",
        "\n",
        "learning_rate = 0.001\n",
        "optimizer = torch.optim.Adam(model.parameters(), lr=learning_rate)\n",
        "print(model)"
      ]
    },
    {
      "cell_type": "markdown",
      "metadata": {
        "id": "im58ZlvMvkty"
      },
      "source": [
        "## Training a network and Testing it on test dataset"
      ]
    },
    {
      "cell_type": "code",
      "execution_count": null,
      "metadata": {
        "id": "SYh_6HtpUlNl"
      },
      "outputs": [],
      "source": [
        "num_epochs = 1\n",
        "count = 0\n",
        "# Lists for visualization of loss and accuracy\n",
        "loss_list = []\n",
        "iteration_list = []\n",
        "accuracy_list = []\n",
        "\n",
        "# Lists for knowing classwise accuracy\n",
        "predictions_list = []\n",
        "labels_list = []\n",
        "\n",
        "for epoch in range(num_epochs):\n",
        "    for images, labels in train_loader:\n",
        "        # Transfering images and labels to GPU if available\n",
        "        images, labels = images.to(device), labels.to(device)\n",
        "\n",
        "        train = Variable(images.view(100, 1, 28, 28))\n",
        "        labels = Variable(labels)\n",
        "\n",
        "        # Forward pass\n",
        "        outputs = model(train)\n",
        "        loss = error(outputs, labels)\n",
        "\n",
        "        # Initializing a gradient as 0 so there is no mixing of gradient among the batches\n",
        "        optimizer.zero_grad()\n",
        "\n",
        "        #Propagating the error backward\n",
        "        loss.backward()\n",
        "\n",
        "        # Optimizing the parameters\n",
        "        optimizer.step()\n",
        "\n",
        "        count += 1\n",
        "\n",
        "    # Testing the model\n",
        "\n",
        "        if not (count % 50):    # It's same as \"if count % 50 == 0\"\n",
        "            total = 0\n",
        "            correct = 0\n",
        "\n",
        "            for images, labels in test_loader:\n",
        "                images, labels = images.to(device), labels.to(device)\n",
        "                labels_list.append(labels)\n",
        "\n",
        "                test = Variable(images.view(100, 1, 28, 28))\n",
        "\n",
        "                outputs = model(test)\n",
        "\n",
        "                predictions = torch.max(outputs, 1)[1].to(device)\n",
        "                predictions_list.append(predictions)\n",
        "                correct += (predictions == labels).sum()\n",
        "\n",
        "                total += len(labels)\n",
        "\n",
        "            accuracy = correct * 100 / total\n",
        "            loss_list.append(loss.data)\n",
        "            iteration_list.append(count)\n",
        "            accuracy_list.append(accuracy)\n",
        "\n",
        "        if not (count % 500):\n",
        "            print(\"Iteration: {}, Loss: {}, Accuracy: {}%\".format(count, loss.data, accuracy))\n"
      ]
    },
    {
      "cell_type": "markdown",
      "metadata": {
        "id": "1xm9MZ6O0irC"
      },
      "source": [
        "### Visualizing the Loss and Accuracy with Iterations\n"
      ]
    },
    {
      "cell_type": "markdown",
      "source": [
        "\n",
        "\n",
        "- **num_epochs**: Number of epochs to train the model. In this case, it's set to 1, meaning the model will be trained over the entire training dataset once.\n",
        "- **count**: Variable to keep track of the number of iterations (batches processed) during training.\n",
        "- **loss_list, iteration_list, accuracy_list**: Lists used for visualization of loss and accuracy during training.\n",
        "- **predictions_list, labels_list**: Lists used for storing predictions and labels to calculate accuracy.\n",
        "- **for epoch in range(num_epochs):**: Iterates over the specified number of epochs.\n",
        "- **for images, labels in train_loader:**: Iterates over batches of data in the training loader.\n",
        "- **images, labels = images.to(device), labels.to(device)**: Transfers the images and labels to the GPU if available, to accelerate computation.\n",
        "- **Forward Pass**: Passes the input images through the model to get the predicted outputs.\n",
        "- **loss = error(outputs, labels)**: Calculates the loss using the defined loss function (in this case, Cross Entropy Loss).\n",
        "- **optimizer.zero_grad()**: Initializes the gradients to zero before the backward pass.\n",
        "- **loss.backward()**: Backpropagates the loss to compute gradients.\n",
        "- **optimizer.step()**: Updates the model parameters using the computed gradients.\n",
        "- **count += 1**: Increments the count of iterations.\n",
        "- **Testing the Model**: Evaluates the model's performance on the test dataset.\n",
        "- **if not (count % 50):**: Checks if it's every 50th iteration.\n",
        "- **for images, labels in test_loader:**: Iterates over batches of data in the test loader.\n",
        "- **Calculating Accuracy**: Compares the model's predictions with the actual labels to compute the accuracy.\n",
        "- **if not (count % 500):**: Checks if it's every 500th iteration.\n",
        "- **print(\"Iteration: {}, Loss: {}, Accuracy: {}%\".format(count, loss.data, accuracy))**: Prints the iteration number, loss, and accuracy every 500 iterations.\n",
        "\n",
        "This code snippet essentially trains the model, evaluates its performance, and keeps track of loss and accuracy metrics during the training process. It provides insights into how the model is learning and improving over time."
      ],
      "metadata": {
        "id": "GSH4pytWJI12"
      }
    },
    {
      "cell_type": "code",
      "execution_count": null,
      "metadata": {
        "colab": {
          "base_uri": "https://localhost:8080/",
          "height": 295
        },
        "id": "4s4cGX4Hanyz",
        "outputId": "4f19caa4-327f-4cca-bd9f-726774b9ddfd"
      },
      "outputs": [
        {
          "data": {
            "image/png": "[encoded data removed]",
            "text/plain": [
              "<Figure size 432x288 with 1 Axes>"
            ]
          },
          "metadata": {},
          "output_type": "display_data"
        }
      ],
      "source": [
        "plt.plot(iteration_list, loss_list)\n",
        "plt.xlabel(\"No. of Iteration\")\n",
        "plt.ylabel(\"Loss\")\n",
        "plt.title(\"Iterations vs Loss\")\n",
        "plt.show()"
      ]
    },
    {
      "cell_type": "markdown",
      "source": [
        "\n",
        "\n",
        "- **plt.plot(iteration_list, loss_list)**: This line of code creates a line plot where `iteration_list` is plotted on the x-axis and `loss_list` is plotted on the y-axis. The `iteration_list` contains the number of iterations (or batches) processed during training, while the `loss_list` contains the corresponding loss values computed during each iteration.\n",
        "\n",
        "- **plt.xlabel(\"No. of Iteration\")**: This sets the label for the x-axis of the plot as \"No. of Iteration\", indicating the number of iterations processed during training.\n",
        "\n",
        "- **plt.ylabel(\"Loss\")**: This sets the label for the y-axis of the plot as \"Loss\", indicating the loss values computed during training.\n",
        "\n",
        "- **plt.title(\"Iterations vs Loss\")**: This sets the title of the plot as \"Iterations vs Loss\", providing a brief description of what the plot represents.\n",
        "\n",
        "- **plt.show()**: This line of code displays the plot on the screen.\n",
        "\n",
        "Overall, this code snippet generates a line plot that visualizes how the loss values change over the course of training, providing insights into the convergence and performance of the machine learning model."
      ],
      "metadata": {
        "id": "vBeP1mPv05Z8"
      }
    },
    {
      "cell_type": "code",
      "execution_count": null,
      "metadata": {
        "colab": {
          "base_uri": "https://localhost:8080/",
          "height": 295
        },
        "id": "TtsjkmY8qo_t",
        "outputId": "18a10340-f465-4c80-db26-cdce0201e347"
      },
      "outputs": [
        {
          "data": {
            "image/png": "[encoded data removed]",
            "text/plain": [
              "<Figure size 432x288 with 1 Axes>"
            ]
          },
          "metadata": {},
          "output_type": "display_data"
        }
      ],
      "source": [
        "plt.plot(iteration_list, accuracy_list)\n",
        "plt.xlabel(\"No. of Iteration\")\n",
        "plt.ylabel(\"Accuracy\")\n",
        "plt.title(\"Iterations vs Accuracy\")\n",
        "plt.show()"
      ]
    },
    {
      "cell_type": "markdown",
      "source": [
        "\n",
        "\n",
        "- **plt.plot(iteration_list, accuracy_list)**: This line of code creates a line plot where `iteration_list` is plotted on the x-axis and `accuracy_list` is plotted on the y-axis. The `iteration_list` contains the number of iterations (or batches) processed during training, while the `accuracy_list` contains the corresponding accuracy values computed during each iteration.\n",
        "\n",
        "- **plt.xlabel(\"No. of Iteration\")**: This sets the label for the x-axis of the plot as \"No. of Iteration\", indicating the number of iterations processed during training.\n",
        "\n",
        "- **plt.ylabel(\"Accuracy\")**: This sets the label for the y-axis of the plot as \"Accuracy\", indicating the accuracy values computed during training.\n",
        "\n",
        "- **plt.title(\"Iterations vs Accuracy\")**: This sets the title of the plot as \"Iterations vs Accuracy\", providing a brief description of what the plot represents.\n",
        "\n",
        "- **plt.show()**: This line of code displays the plot on the screen.\n",
        "\n",
        "Similar to the loss plot, this plot provides insights into how the accuracy of the model changes over the course of training, helping to monitor the performance and convergence of the machine learning model."
      ],
      "metadata": {
        "id": "bCY_pnL11H4d"
      }
    },
    {
      "cell_type": "markdown",
      "metadata": {
        "id": "mZTkzUKn0vq3"
      },
      "source": [
        "### Looking the Accuracy in each class of FashionMNIST dataset"
      ]
    },
    {
      "cell_type": "code",
      "execution_count": null,
      "metadata": {
        "colab": {
          "base_uri": "https://localhost:8080/",
          "height": 199
        },
        "id": "Mq9_qes8Qg6h",
        "outputId": "fd7e3194-d5ab-4c3d-8693-ced0369df983"
      },
      "outputs": [
        {
          "name": "stdout",
          "output_type": "stream",
          "text": [
            "Accuracy of T-shirt/Top: 86.80%\n",
            "Accuracy of Trouser: 99.30%\n",
            "Accuracy of Pullover: 89.03%\n",
            "Accuracy of Dress: 97.57%\n",
            "Accuracy of Coat: 88.78%\n",
            "Accuracy of Sandal: 97.57%\n",
            "Accuracy of Shirt: 82.42%\n",
            "Accuracy of Sneaker: 97.27%\n",
            "Accuracy of Bag: 99.48%\n",
            "Accuracy of Ankle Boot: 98.83%\n"
          ]
        }
      ],
      "source": [
        "class_correct = [0. for _ in range(10)]\n",
        "total_correct = [0. for _ in range(10)]\n",
        "\n",
        "with torch.no_grad():\n",
        "    for images, labels in test_loader:\n",
        "        images, labels = images.to(device), labels.to(device)\n",
        "        test = Variable(images)\n",
        "        outputs = model(test)\n",
        "        predicted = torch.max(outputs, 1)[1]\n",
        "        c = (predicted == labels).squeeze()\n",
        "\n",
        "        for i in range(100):\n",
        "            label = labels[i]\n",
        "            class_correct[label] += c[i].item()\n",
        "            total_correct[label] += 1\n",
        "\n",
        "for i in range(10):\n",
        "    print(\"Accuracy of {}: {:.2f}%\".format(output_label(i), class_correct[i] * 100 / total_correct[i]))"
      ]
    },
    {
      "cell_type": "markdown",
      "source": [
        "\n",
        "\n",
        "- **class_correct**: A list of length 10, initialized with zeros, to store the number of correct predictions for each class.\n",
        "- **total_correct**: A list of length 10, initialized with zeros, to store the total number of predictions for each class.\n",
        "- **torch.no_grad()**: A context manager that disables gradient computation, reducing memory consumption and speeding up computations, as gradients are not needed during inference.\n",
        "- **for images, labels in test_loader**: Iterates over batches of images and labels in the test loader.\n",
        "- **images, labels = images.to(device), labels.to(device)**: Transfers images and labels to the device (GPU or CPU) for computation.\n",
        "- **test = Variable(images)**: Wraps the images in a `Variable` for inference. (Note: In newer versions of PyTorch, `Variable` is no longer needed, as tensors are by default tracked for gradient computation).\n",
        "- **outputs = model(test)**: Forward pass through the model to get the predicted outputs.\n",
        "- **predicted = torch.max(outputs, 1)[1]**: Extracts the predicted class labels by taking the index of the maximum value along the second dimension of the output tensor.\n",
        "- **c = (predicted == labels).squeeze()**: Compares the predicted labels with the true labels and squeezes the tensor to remove dimensions of size 1.\n",
        "- **for i in range(100)**: Iterates over each prediction in the batch.\n",
        "- **label = labels[i]**: Gets the true label for the current prediction.\n",
        "- **class_correct[label] += c[i].item()**: Updates the count of correct predictions for the corresponding class.\n",
        "- **total_correct[label] += 1**: Updates the total count of predictions for the corresponding class.\n",
        "- **for i in range(10)**: Iterates over each class.\n",
        "- **print(\"Accuracy of {}: {:.2f}%\".format(output_label(i), class_correct[i] * 100 / total_correct[i]))**: Prints the accuracy of each class in the format \"Accuracy of [class_name]: [accuracy]%\". The `output_label` function maps class indices to class names."
      ],
      "metadata": {
        "id": "bPAa1ePB1Xra"
      }
    },
    {
      "cell_type": "markdown",
      "metadata": {
        "id": "ZxZhix0v0_KZ"
      },
      "source": [
        "### Printing the Confusion Matrix"
      ]
    },
    {
      "cell_type": "code",
      "execution_count": null,
      "metadata": {
        "id": "GXme4c22cii2"
      },
      "outputs": [],
      "source": [
        "from itertools import chain\n",
        "\n",
        "predictions_l = [predictions_list[i].tolist() for i in range(len(predictions_list))]\n",
        "labels_l = [labels_list[i].tolist() for i in range(len(labels_list))]\n",
        "predictions_l = list(chain.from_iterable(predictions_l))\n",
        "labels_l = list(chain.from_iterable(labels_l))"
      ]
    },
    {
      "cell_type": "code",
      "execution_count": null,
      "metadata": {
        "colab": {
          "base_uri": "https://localhost:8080/",
          "height": 363
        },
        "id": "ft-Qlbb5bl0A",
        "outputId": "5665491d-d6ee-4891-95ff-2749de05a110"
      },
      "outputs": [
        {
          "name": "stdout",
          "output_type": "stream",
          "text": [
            "Classification report for CNN :\n",
            "              precision    recall  f1-score   support\n",
            "\n",
            "           0       0.85      0.86      0.85    360000\n",
            "           1       0.98      0.99      0.98    360000\n",
            "           2       0.84      0.86      0.85    360000\n",
            "           3       0.89      0.92      0.90    360000\n",
            "           4       0.85      0.83      0.84    360000\n",
            "           5       0.97      0.98      0.98    360000\n",
            "           6       0.75      0.71      0.73    360000\n",
            "           7       0.95      0.96      0.95    360000\n",
            "           8       0.98      0.98      0.98    360000\n",
            "           9       0.97      0.96      0.96    360000\n",
            "\n",
            "   micro avg       0.90      0.90      0.90   3600000\n",
            "   macro avg       0.90      0.90      0.90   3600000\n",
            "weighted avg       0.90      0.90      0.90   3600000\n",
            "\n",
            "\n"
          ]
        }
      ],
      "source": [
        " import sklearn.metrics as metrics\n",
        "\n",
        "confusion_matrix(labels_l, predictions_l)\n",
        "print(\"Classification report for CNN :\\n%s\\n\"\n",
        "      % (metrics.classification_report(labels_l, predictions_l)))"
      ]
    },
    {
      "cell_type": "markdown",
      "source": [
        "\n",
        "```\n",
        "\n",
        "- **from itertools import chain**: Importing the `chain` function from the `itertools` module. The `chain` function is used to concatenate iterables together.\n",
        "- **predictions_l**: A list comprehension that iterates over each element in the `predictions_list`, converts each element to a list, and stores the result in a new list `predictions_l`.\n",
        "- **labels_l**: A list comprehension that iterates over each element in the `labels_list`, converts each element to a list, and stores the result in a new list `labels_l`.\n",
        "- **list(chain.from_iterable(predictions_l))**: The `chain.from_iterable` function is used to concatenate the sublists in `predictions_l` into a single list. This operation flattens the list of predictions.\n",
        "- **list(chain.from_iterable(labels_l))**: Similar to the previous line, this operation flattens the list of labels.\n",
        "\n",
        "After executing these lines of code, `predictions_l` and `labels_l` will contain flattened lists of predictions and labels, respectively. This flattening process is often done to prepare the data for further analysis, such as computing performance metrics or generating visualizations."
      ],
      "metadata": {
        "id": "fqFWZef01lRQ"
      }
    },
    {
      "cell_type": "markdown",
      "source": [
        "\n",
        "\n",
        "- **import sklearn.metrics as metrics**: Imports the `sklearn.metrics` module, which provides functions for evaluating machine learning models.\n",
        "- **confusion_matrix(labels_l, predictions_l)**: This line computes the confusion matrix based on the true labels (`labels_l`) and the predicted labels (`predictions_l`). However, it seems that the result of the confusion matrix calculation is not assigned to any variable or printed.\n",
        "- **print(\"Classification report for CNN :\\n%s\\n\" % (metrics.classification_report(labels_l, predictions_l)))**: This line prints the classification report for the model's predictions. The `classification_report` function from the `metrics` module takes the true labels (`labels_l`) and the predicted labels (`predictions_l`) as input and generates a report containing various evaluation metrics such as precision, recall, F1-score, and support for each class. The `%s` placeholder is used to format the string, and `% (metrics.classification_report(labels_l, predictions_l))` inserts the classification report into the string.\n",
        "\n"
      ],
      "metadata": {
        "id": "NnYR28JC1rlJ"
      }
    },
    {
      "cell_type": "code",
      "execution_count": null,
      "metadata": {
        "id": "-y7UVDICbOw4"
      },
      "outputs": [],
      "source": []
    }
  ],
  "metadata": {
    "accelerator": "GPU",
    "colab": {
      "provenance": [],
      "include_colab_link": true
    },
    "kernelspec": {
      "display_name": "Python 3",
      "language": "python",
      "name": "python3"
    },
    "language_info": {
      "codemirror_mode": {
        "name": "ipython",
        "version": 3
      },
      "file_extension": ".py",
      "mimetype": "text/x-python",
      "name": "python",
      "nbconvert_exporter": "python",
      "pygments_lexer": "ipython3",
      "version": "3.8.10"
    }
  },
  "nbformat": 4,
  "nbformat_minor": 0
}