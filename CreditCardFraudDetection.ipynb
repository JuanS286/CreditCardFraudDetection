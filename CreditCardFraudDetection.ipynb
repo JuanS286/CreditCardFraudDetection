{
 "cells": [
  {
   "cell_type": "markdown",
   "metadata": {},
   "source": [
    "# Credit Card Fraud Detection"
   ]
  },
  {
   "cell_type": "code",
   "execution_count": 2,
   "metadata": {},
   "outputs": [],
   "source": [
    "# import necessary libraries \n",
    "import os\n",
    "import numpy as np \n",
    "import pandas as pd \n",
    "import warnings\n",
    "import seaborn as sns\n",
    "import matplotlib.pyplot as plt\n",
    "import plotly.express as px\n",
    "warnings.filterwarnings(\"ignore\")\n",
    "pd.set_option(\"display.max_rows\",None)\n",
    "from sklearn import preprocessing\n",
    "import matplotlib \n",
    "from scipy import stats\n",
    "sns.set(style=\"whitegrid\")\n",
    "from sklearn.preprocessing import LabelEncoder\n"
   ]
  },
  {
   "cell_type": "markdown",
   "metadata": {},
   "source": [
    "## Obtain & Load Data"
   ]
  },
  {
   "cell_type": "code",
   "execution_count": 3,
   "metadata": {},
   "outputs": [],
   "source": [
    "\n",
    "# Read in the data with read_csv() into a Pandas Dataframe\n",
    "customer_df=pd.read_csv(\"data/customer.csv\")\n",
    "terminal_df=pd.read_csv(\"data/terminal.csv\")\n",
    "train_df=pd.read_csv(\"data/train.csv\")\n",
    "test_df=pd.read_csv(\"data/test.csv\")\n"
   ]
  },
  {
   "cell_type": "markdown",
   "metadata": {},
   "source": [
    "## Exploratory data analysis"
   ]
  },
  {
   "cell_type": "code",
   "execution_count": 4,
   "metadata": {},
   "outputs": [
    {
     "data": {
      "text/plain": [
       "Index(['CUSTOMER_ID', 'x_customer_id', 'y_customer_id', 'mean_amount',\n",
       "       'std_amount', 'mean_nb_tx_per_day', 'available_terminals',\n",
       "       'nb_terminals'],\n",
       "      dtype='object')"
      ]
     },
     "execution_count": 4,
     "metadata": {},
     "output_type": "execute_result"
    }
   ],
   "source": [
    "# To visualize the columns names\n",
    "customer_df.columns"
   ]
  },
  {
   "cell_type": "code",
   "execution_count": 5,
   "metadata": {},
   "outputs": [
    {
     "data": {
      "text/html": [
       "<div>\n",
       "<style scoped>\n",
       "    .dataframe tbody tr th:only-of-type {\n",
       "        vertical-align: middle;\n",
       "    }\n",
       "\n",
       "    .dataframe tbody tr th {\n",
       "        vertical-align: top;\n",
       "    }\n",
       "\n",
       "    .dataframe thead th {\n",
       "        text-align: right;\n",
       "    }\n",
       "</style>\n",
       "<table border=\"1\" class=\"dataframe\">\n",
       "  <thead>\n",
       "    <tr style=\"text-align: right;\">\n",
       "      <th></th>\n",
       "      <th>CUSTOMER_ID</th>\n",
       "      <th>x_customer_id</th>\n",
       "      <th>y_customer_id</th>\n",
       "      <th>mean_amount</th>\n",
       "      <th>std_amount</th>\n",
       "      <th>mean_nb_tx_per_day</th>\n",
       "      <th>available_terminals</th>\n",
       "      <th>nb_terminals</th>\n",
       "    </tr>\n",
       "  </thead>\n",
       "  <tbody>\n",
       "    <tr>\n",
       "      <th>0</th>\n",
       "      <td>0</td>\n",
       "      <td>54.881350</td>\n",
       "      <td>71.518937</td>\n",
       "      <td>62.262521</td>\n",
       "      <td>31.131260</td>\n",
       "      <td>2.179533</td>\n",
       "      <td>[29, 87, 144, 241, 330, 858, 996, 1028, 1067, ...</td>\n",
       "      <td>22</td>\n",
       "    </tr>\n",
       "    <tr>\n",
       "      <th>1</th>\n",
       "      <td>1</td>\n",
       "      <td>42.365480</td>\n",
       "      <td>64.589411</td>\n",
       "      <td>46.570785</td>\n",
       "      <td>23.285393</td>\n",
       "      <td>3.567092</td>\n",
       "      <td>[5, 160, 242, 378, 431, 475, 571, 762, 876, 93...</td>\n",
       "      <td>20</td>\n",
       "    </tr>\n",
       "    <tr>\n",
       "      <th>2</th>\n",
       "      <td>2</td>\n",
       "      <td>96.366276</td>\n",
       "      <td>38.344152</td>\n",
       "      <td>80.213879</td>\n",
       "      <td>40.106939</td>\n",
       "      <td>2.115580</td>\n",
       "      <td>[316, 406, 447, 523, 968, 1200, 1318, 1365, 16...</td>\n",
       "      <td>10</td>\n",
       "    </tr>\n",
       "    <tr>\n",
       "      <th>3</th>\n",
       "      <td>3</td>\n",
       "      <td>56.804456</td>\n",
       "      <td>92.559664</td>\n",
       "      <td>11.748426</td>\n",
       "      <td>5.874213</td>\n",
       "      <td>0.348517</td>\n",
       "      <td>[65, 94, 113, 364, 401, 433, 485, 651, 672, 77...</td>\n",
       "      <td>17</td>\n",
       "    </tr>\n",
       "    <tr>\n",
       "      <th>4</th>\n",
       "      <td>4</td>\n",
       "      <td>2.021840</td>\n",
       "      <td>83.261985</td>\n",
       "      <td>78.924891</td>\n",
       "      <td>39.462446</td>\n",
       "      <td>3.480049</td>\n",
       "      <td>[372, 614, 774, 1362, 1446, 1564, 1637, 1939]</td>\n",
       "      <td>8</td>\n",
       "    </tr>\n",
       "  </tbody>\n",
       "</table>\n",
       "</div>"
      ],
      "text/plain": [
       "   CUSTOMER_ID  x_customer_id  y_customer_id  mean_amount  std_amount  \\\n",
       "0            0      54.881350      71.518937    62.262521   31.131260   \n",
       "1            1      42.365480      64.589411    46.570785   23.285393   \n",
       "2            2      96.366276      38.344152    80.213879   40.106939   \n",
       "3            3      56.804456      92.559664    11.748426    5.874213   \n",
       "4            4       2.021840      83.261985    78.924891   39.462446   \n",
       "\n",
       "   mean_nb_tx_per_day                                available_terminals  \\\n",
       "0            2.179533  [29, 87, 144, 241, 330, 858, 996, 1028, 1067, ...   \n",
       "1            3.567092  [5, 160, 242, 378, 431, 475, 571, 762, 876, 93...   \n",
       "2            2.115580  [316, 406, 447, 523, 968, 1200, 1318, 1365, 16...   \n",
       "3            0.348517  [65, 94, 113, 364, 401, 433, 485, 651, 672, 77...   \n",
       "4            3.480049      [372, 614, 774, 1362, 1446, 1564, 1637, 1939]   \n",
       "\n",
       "   nb_terminals  \n",
       "0            22  \n",
       "1            20  \n",
       "2            10  \n",
       "3            17  \n",
       "4             8  "
      ]
     },
     "execution_count": 5,
     "metadata": {},
     "output_type": "execute_result"
    }
   ],
   "source": [
    "# Using .head() function to view the first rows/records of the \"customer\" dataset \n",
    "customer_df.head()"
   ]
  },
  {
   "cell_type": "code",
   "execution_count": 6,
   "metadata": {},
   "outputs": [
    {
     "name": "stdout",
     "output_type": "stream",
     "text": [
      "<class 'pandas.core.frame.DataFrame'>\n",
      "RangeIndex: 1000 entries, 0 to 999\n",
      "Data columns (total 8 columns):\n",
      " #   Column               Non-Null Count  Dtype  \n",
      "---  ------               --------------  -----  \n",
      " 0   CUSTOMER_ID          1000 non-null   int64  \n",
      " 1   x_customer_id        1000 non-null   float64\n",
      " 2   y_customer_id        1000 non-null   float64\n",
      " 3   mean_amount          1000 non-null   float64\n",
      " 4   std_amount           1000 non-null   float64\n",
      " 5   mean_nb_tx_per_day   1000 non-null   float64\n",
      " 6   available_terminals  1000 non-null   object \n",
      " 7   nb_terminals         1000 non-null   int64  \n",
      "dtypes: float64(5), int64(2), object(1)\n",
      "memory usage: 62.6+ KB\n"
     ]
    }
   ],
   "source": [
    "# Use .info() to show the features (i.e. columns) in your dataset along with a count and datatype\n",
    "customer_df.info()"
   ]
  },
  {
   "cell_type": "code",
   "execution_count": 7,
   "metadata": {},
   "outputs": [
    {
     "data": {
      "text/html": [
       "<div>\n",
       "<style scoped>\n",
       "    .dataframe tbody tr th:only-of-type {\n",
       "        vertical-align: middle;\n",
       "    }\n",
       "\n",
       "    .dataframe tbody tr th {\n",
       "        vertical-align: top;\n",
       "    }\n",
       "\n",
       "    .dataframe thead th {\n",
       "        text-align: right;\n",
       "    }\n",
       "</style>\n",
       "<table border=\"1\" class=\"dataframe\">\n",
       "  <thead>\n",
       "    <tr style=\"text-align: right;\">\n",
       "      <th></th>\n",
       "      <th>CUSTOMER_ID</th>\n",
       "      <th>x_customer_id</th>\n",
       "      <th>y_customer_id</th>\n",
       "      <th>mean_amount</th>\n",
       "      <th>std_amount</th>\n",
       "      <th>mean_nb_tx_per_day</th>\n",
       "      <th>available_terminals</th>\n",
       "      <th>nb_terminals</th>\n",
       "    </tr>\n",
       "  </thead>\n",
       "  <tbody>\n",
       "    <tr>\n",
       "      <th>count</th>\n",
       "      <td>1000.000000</td>\n",
       "      <td>1000.000000</td>\n",
       "      <td>1000.000000</td>\n",
       "      <td>1000.000000</td>\n",
       "      <td>1000.000000</td>\n",
       "      <td>1000.000000</td>\n",
       "      <td>1000</td>\n",
       "      <td>1000.000000</td>\n",
       "    </tr>\n",
       "    <tr>\n",
       "      <th>unique</th>\n",
       "      <td>NaN</td>\n",
       "      <td>NaN</td>\n",
       "      <td>NaN</td>\n",
       "      <td>NaN</td>\n",
       "      <td>NaN</td>\n",
       "      <td>NaN</td>\n",
       "      <td>975</td>\n",
       "      <td>NaN</td>\n",
       "    </tr>\n",
       "    <tr>\n",
       "      <th>top</th>\n",
       "      <td>NaN</td>\n",
       "      <td>NaN</td>\n",
       "      <td>NaN</td>\n",
       "      <td>NaN</td>\n",
       "      <td>NaN</td>\n",
       "      <td>NaN</td>\n",
       "      <td>[20, 56, 266, 568, 682, 783, 794, 1010, 1130, ...</td>\n",
       "      <td>NaN</td>\n",
       "    </tr>\n",
       "    <tr>\n",
       "      <th>freq</th>\n",
       "      <td>NaN</td>\n",
       "      <td>NaN</td>\n",
       "      <td>NaN</td>\n",
       "      <td>NaN</td>\n",
       "      <td>NaN</td>\n",
       "      <td>NaN</td>\n",
       "      <td>3</td>\n",
       "      <td>NaN</td>\n",
       "    </tr>\n",
       "    <tr>\n",
       "      <th>mean</th>\n",
       "      <td>499.500000</td>\n",
       "      <td>51.318204</td>\n",
       "      <td>50.397990</td>\n",
       "      <td>51.550697</td>\n",
       "      <td>25.775348</td>\n",
       "      <td>1.956983</td>\n",
       "      <td>NaN</td>\n",
       "      <td>15.117000</td>\n",
       "    </tr>\n",
       "    <tr>\n",
       "      <th>std</th>\n",
       "      <td>288.819436</td>\n",
       "      <td>28.893939</td>\n",
       "      <td>28.785699</td>\n",
       "      <td>28.025746</td>\n",
       "      <td>14.012873</td>\n",
       "      <td>1.165512</td>\n",
       "      <td>NaN</td>\n",
       "      <td>4.255987</td>\n",
       "    </tr>\n",
       "    <tr>\n",
       "      <th>min</th>\n",
       "      <td>0.000000</td>\n",
       "      <td>0.007245</td>\n",
       "      <td>0.036734</td>\n",
       "      <td>5.063101</td>\n",
       "      <td>2.531550</td>\n",
       "      <td>0.000295</td>\n",
       "      <td>NaN</td>\n",
       "      <td>2.000000</td>\n",
       "    </tr>\n",
       "    <tr>\n",
       "      <th>25%</th>\n",
       "      <td>249.750000</td>\n",
       "      <td>27.099437</td>\n",
       "      <td>26.737835</td>\n",
       "      <td>27.596718</td>\n",
       "      <td>13.798359</td>\n",
       "      <td>0.931062</td>\n",
       "      <td>NaN</td>\n",
       "      <td>12.000000</td>\n",
       "    </tr>\n",
       "    <tr>\n",
       "      <th>50%</th>\n",
       "      <td>499.500000</td>\n",
       "      <td>50.601090</td>\n",
       "      <td>49.109879</td>\n",
       "      <td>51.596026</td>\n",
       "      <td>25.798013</td>\n",
       "      <td>1.886714</td>\n",
       "      <td>NaN</td>\n",
       "      <td>15.000000</td>\n",
       "    </tr>\n",
       "    <tr>\n",
       "      <th>75%</th>\n",
       "      <td>749.250000</td>\n",
       "      <td>76.422770</td>\n",
       "      <td>76.377724</td>\n",
       "      <td>75.304416</td>\n",
       "      <td>37.652208</td>\n",
       "      <td>2.994755</td>\n",
       "      <td>NaN</td>\n",
       "      <td>18.000000</td>\n",
       "    </tr>\n",
       "    <tr>\n",
       "      <th>max</th>\n",
       "      <td>999.000000</td>\n",
       "      <td>99.994897</td>\n",
       "      <td>99.996402</td>\n",
       "      <td>99.981815</td>\n",
       "      <td>49.990907</td>\n",
       "      <td>3.999725</td>\n",
       "      <td>NaN</td>\n",
       "      <td>28.000000</td>\n",
       "    </tr>\n",
       "  </tbody>\n",
       "</table>\n",
       "</div>"
      ],
      "text/plain": [
       "        CUSTOMER_ID  x_customer_id  y_customer_id  mean_amount   std_amount  \\\n",
       "count   1000.000000    1000.000000    1000.000000  1000.000000  1000.000000   \n",
       "unique          NaN            NaN            NaN          NaN          NaN   \n",
       "top             NaN            NaN            NaN          NaN          NaN   \n",
       "freq            NaN            NaN            NaN          NaN          NaN   \n",
       "mean     499.500000      51.318204      50.397990    51.550697    25.775348   \n",
       "std      288.819436      28.893939      28.785699    28.025746    14.012873   \n",
       "min        0.000000       0.007245       0.036734     5.063101     2.531550   \n",
       "25%      249.750000      27.099437      26.737835    27.596718    13.798359   \n",
       "50%      499.500000      50.601090      49.109879    51.596026    25.798013   \n",
       "75%      749.250000      76.422770      76.377724    75.304416    37.652208   \n",
       "max      999.000000      99.994897      99.996402    99.981815    49.990907   \n",
       "\n",
       "        mean_nb_tx_per_day                                available_terminals  \\\n",
       "count          1000.000000                                               1000   \n",
       "unique                 NaN                                                975   \n",
       "top                    NaN  [20, 56, 266, 568, 682, 783, 794, 1010, 1130, ...   \n",
       "freq                   NaN                                                  3   \n",
       "mean              1.956983                                                NaN   \n",
       "std               1.165512                                                NaN   \n",
       "min               0.000295                                                NaN   \n",
       "25%               0.931062                                                NaN   \n",
       "50%               1.886714                                                NaN   \n",
       "75%               2.994755                                                NaN   \n",
       "max               3.999725                                                NaN   \n",
       "\n",
       "        nb_terminals  \n",
       "count    1000.000000  \n",
       "unique           NaN  \n",
       "top              NaN  \n",
       "freq             NaN  \n",
       "mean       15.117000  \n",
       "std         4.255987  \n",
       "min         2.000000  \n",
       "25%        12.000000  \n",
       "50%        15.000000  \n",
       "75%        18.000000  \n",
       "max        28.000000  "
      ]
     },
     "execution_count": 7,
     "metadata": {},
     "output_type": "execute_result"
    }
   ],
   "source": [
    "# Use .describe() to see metrics about the dataset (count, mean, std, min, 25%, 50%, 75%, max)\n",
    "customer_df.describe(include='all')"
   ]
  },
  {
   "cell_type": "code",
   "execution_count": 8,
   "metadata": {},
   "outputs": [
    {
     "data": {
      "text/plain": [
       "CUSTOMER_ID            0\n",
       "x_customer_id          0\n",
       "y_customer_id          0\n",
       "mean_amount            0\n",
       "std_amount             0\n",
       "mean_nb_tx_per_day     0\n",
       "available_terminals    0\n",
       "nb_terminals           0\n",
       "dtype: int64"
      ]
     },
     "execution_count": 8,
     "metadata": {},
     "output_type": "execute_result"
    }
   ],
   "source": [
    "# Verify which features have missing values\n",
    "customer_df.isnull().sum()"
   ]
  },
  {
   "cell_type": "code",
   "execution_count": 9,
   "metadata": {},
   "outputs": [
    {
     "name": "stdout",
     "output_type": "stream",
     "text": [
      "Total Duplicates: 0\n"
     ]
    }
   ],
   "source": [
    "# Validating there is not duplicated values\n",
    "total_duplicates_customer = customer_df.duplicated().sum()\n",
    "print(\"Total Duplicates:\", total_duplicates_customer)"
   ]
  },
  {
   "cell_type": "code",
   "execution_count": 10,
   "metadata": {},
   "outputs": [
    {
     "data": {
      "text/html": [
       "<div>\n",
       "<style scoped>\n",
       "    .dataframe tbody tr th:only-of-type {\n",
       "        vertical-align: middle;\n",
       "    }\n",
       "\n",
       "    .dataframe tbody tr th {\n",
       "        vertical-align: top;\n",
       "    }\n",
       "\n",
       "    .dataframe thead th {\n",
       "        text-align: right;\n",
       "    }\n",
       "</style>\n",
       "<table border=\"1\" class=\"dataframe\">\n",
       "  <thead>\n",
       "    <tr style=\"text-align: right;\">\n",
       "      <th></th>\n",
       "      <th>TERMINAL_ID</th>\n",
       "      <th>x_terminal_id</th>\n",
       "      <th>y_terminal_id</th>\n",
       "    </tr>\n",
       "  </thead>\n",
       "  <tbody>\n",
       "    <tr>\n",
       "      <th>0</th>\n",
       "      <td>0</td>\n",
       "      <td>41.702200</td>\n",
       "      <td>72.032449</td>\n",
       "    </tr>\n",
       "    <tr>\n",
       "      <th>1</th>\n",
       "      <td>1</td>\n",
       "      <td>0.011437</td>\n",
       "      <td>30.233257</td>\n",
       "    </tr>\n",
       "    <tr>\n",
       "      <th>2</th>\n",
       "      <td>2</td>\n",
       "      <td>14.675589</td>\n",
       "      <td>9.233859</td>\n",
       "    </tr>\n",
       "    <tr>\n",
       "      <th>3</th>\n",
       "      <td>3</td>\n",
       "      <td>18.626021</td>\n",
       "      <td>34.556073</td>\n",
       "    </tr>\n",
       "    <tr>\n",
       "      <th>4</th>\n",
       "      <td>4</td>\n",
       "      <td>39.676747</td>\n",
       "      <td>53.881673</td>\n",
       "    </tr>\n",
       "  </tbody>\n",
       "</table>\n",
       "</div>"
      ],
      "text/plain": [
       "   TERMINAL_ID  x_terminal_id  y_terminal_id\n",
       "0            0      41.702200      72.032449\n",
       "1            1       0.011437      30.233257\n",
       "2            2      14.675589       9.233859\n",
       "3            3      18.626021      34.556073\n",
       "4            4      39.676747      53.881673"
      ]
     },
     "execution_count": 10,
     "metadata": {},
     "output_type": "execute_result"
    }
   ],
   "source": [
    "# Using .head() function to view the first rows/records of the \"terminal\" dataset \n",
    "terminal_df.head()"
   ]
  },
  {
   "cell_type": "code",
   "execution_count": 11,
   "metadata": {},
   "outputs": [
    {
     "data": {
      "text/plain": [
       "Index(['TERMINAL_ID', 'x_terminal_id', 'y_terminal_id'], dtype='object')"
      ]
     },
     "execution_count": 11,
     "metadata": {},
     "output_type": "execute_result"
    }
   ],
   "source": [
    "# To visualize the columns names\n",
    "terminal_df.columns"
   ]
  },
  {
   "cell_type": "code",
   "execution_count": 12,
   "metadata": {},
   "outputs": [
    {
     "name": "stdout",
     "output_type": "stream",
     "text": [
      "<class 'pandas.core.frame.DataFrame'>\n",
      "RangeIndex: 2000 entries, 0 to 1999\n",
      "Data columns (total 3 columns):\n",
      " #   Column         Non-Null Count  Dtype  \n",
      "---  ------         --------------  -----  \n",
      " 0   TERMINAL_ID    2000 non-null   int64  \n",
      " 1   x_terminal_id  2000 non-null   float64\n",
      " 2   y_terminal_id  2000 non-null   float64\n",
      "dtypes: float64(2), int64(1)\n",
      "memory usage: 47.0 KB\n"
     ]
    }
   ],
   "source": [
    "# Use .info() to show the features (i.e. columns) in your dataset along with a count and datatype\n",
    "terminal_df.info()"
   ]
  },
  {
   "cell_type": "code",
   "execution_count": 13,
   "metadata": {},
   "outputs": [
    {
     "data": {
      "text/html": [
       "<div>\n",
       "<style scoped>\n",
       "    .dataframe tbody tr th:only-of-type {\n",
       "        vertical-align: middle;\n",
       "    }\n",
       "\n",
       "    .dataframe tbody tr th {\n",
       "        vertical-align: top;\n",
       "    }\n",
       "\n",
       "    .dataframe thead th {\n",
       "        text-align: right;\n",
       "    }\n",
       "</style>\n",
       "<table border=\"1\" class=\"dataframe\">\n",
       "  <thead>\n",
       "    <tr style=\"text-align: right;\">\n",
       "      <th></th>\n",
       "      <th>TERMINAL_ID</th>\n",
       "      <th>x_terminal_id</th>\n",
       "      <th>y_terminal_id</th>\n",
       "    </tr>\n",
       "  </thead>\n",
       "  <tbody>\n",
       "    <tr>\n",
       "      <th>count</th>\n",
       "      <td>2000.000000</td>\n",
       "      <td>2000.000000</td>\n",
       "      <td>2000.000000</td>\n",
       "    </tr>\n",
       "    <tr>\n",
       "      <th>mean</th>\n",
       "      <td>999.500000</td>\n",
       "      <td>49.639290</td>\n",
       "      <td>50.635476</td>\n",
       "    </tr>\n",
       "    <tr>\n",
       "      <th>std</th>\n",
       "      <td>577.494589</td>\n",
       "      <td>28.807532</td>\n",
       "      <td>28.817640</td>\n",
       "    </tr>\n",
       "    <tr>\n",
       "      <th>min</th>\n",
       "      <td>0.000000</td>\n",
       "      <td>0.011437</td>\n",
       "      <td>0.009695</td>\n",
       "    </tr>\n",
       "    <tr>\n",
       "      <th>25%</th>\n",
       "      <td>499.750000</td>\n",
       "      <td>24.795839</td>\n",
       "      <td>25.443403</td>\n",
       "    </tr>\n",
       "    <tr>\n",
       "      <th>50%</th>\n",
       "      <td>999.500000</td>\n",
       "      <td>50.340815</td>\n",
       "      <td>51.212018</td>\n",
       "    </tr>\n",
       "    <tr>\n",
       "      <th>75%</th>\n",
       "      <td>1499.250000</td>\n",
       "      <td>74.303857</td>\n",
       "      <td>75.550561</td>\n",
       "    </tr>\n",
       "    <tr>\n",
       "      <th>max</th>\n",
       "      <td>1999.000000</td>\n",
       "      <td>99.859909</td>\n",
       "      <td>99.987579</td>\n",
       "    </tr>\n",
       "  </tbody>\n",
       "</table>\n",
       "</div>"
      ],
      "text/plain": [
       "       TERMINAL_ID  x_terminal_id  y_terminal_id\n",
       "count  2000.000000    2000.000000    2000.000000\n",
       "mean    999.500000      49.639290      50.635476\n",
       "std     577.494589      28.807532      28.817640\n",
       "min       0.000000       0.011437       0.009695\n",
       "25%     499.750000      24.795839      25.443403\n",
       "50%     999.500000      50.340815      51.212018\n",
       "75%    1499.250000      74.303857      75.550561\n",
       "max    1999.000000      99.859909      99.987579"
      ]
     },
     "execution_count": 13,
     "metadata": {},
     "output_type": "execute_result"
    }
   ],
   "source": [
    "# Use .describe() to see metrics about the dataset (count, mean, std, min, 25%, 50%, 75%, max)\n",
    "terminal_df.describe(include='all')"
   ]
  },
  {
   "cell_type": "code",
   "execution_count": 14,
   "metadata": {},
   "outputs": [
    {
     "data": {
      "text/plain": [
       "TERMINAL_ID      0\n",
       "x_terminal_id    0\n",
       "y_terminal_id    0\n",
       "dtype: int64"
      ]
     },
     "execution_count": 14,
     "metadata": {},
     "output_type": "execute_result"
    }
   ],
   "source": [
    "# Verify which features have missing values\n",
    "terminal_df.isnull().sum()"
   ]
  },
  {
   "cell_type": "code",
   "execution_count": 15,
   "metadata": {},
   "outputs": [
    {
     "name": "stdout",
     "output_type": "stream",
     "text": [
      "Total Duplicates: 0\n"
     ]
    }
   ],
   "source": [
    "# Validating there is not duplicated values\n",
    "total_duplicates_terminal = customer_df.duplicated().sum()\n",
    "print(\"Total Duplicates:\", total_duplicates_terminal)"
   ]
  },
  {
   "cell_type": "code",
   "execution_count": 16,
   "metadata": {},
   "outputs": [
    {
     "data": {
      "text/html": [
       "<div>\n",
       "<style scoped>\n",
       "    .dataframe tbody tr th:only-of-type {\n",
       "        vertical-align: middle;\n",
       "    }\n",
       "\n",
       "    .dataframe tbody tr th {\n",
       "        vertical-align: top;\n",
       "    }\n",
       "\n",
       "    .dataframe thead th {\n",
       "        text-align: right;\n",
       "    }\n",
       "</style>\n",
       "<table border=\"1\" class=\"dataframe\">\n",
       "  <thead>\n",
       "    <tr style=\"text-align: right;\">\n",
       "      <th></th>\n",
       "      <th>TRANSACTION_ID</th>\n",
       "      <th>TX_DATETIME</th>\n",
       "      <th>CUSTOMER_ID</th>\n",
       "      <th>TERMINAL_ID</th>\n",
       "      <th>TX_AMOUNT</th>\n",
       "      <th>TX_FRAUD</th>\n",
       "    </tr>\n",
       "  </thead>\n",
       "  <tbody>\n",
       "    <tr>\n",
       "      <th>0</th>\n",
       "      <td>59383</td>\n",
       "      <td>2021-08-01 00:04:37</td>\n",
       "      <td>323</td>\n",
       "      <td>217</td>\n",
       "      <td>4.60</td>\n",
       "      <td>0</td>\n",
       "    </tr>\n",
       "    <tr>\n",
       "      <th>1</th>\n",
       "      <td>59384</td>\n",
       "      <td>2021-08-01 00:12:10</td>\n",
       "      <td>6</td>\n",
       "      <td>429</td>\n",
       "      <td>8.61</td>\n",
       "      <td>0</td>\n",
       "    </tr>\n",
       "    <tr>\n",
       "      <th>2</th>\n",
       "      <td>59385</td>\n",
       "      <td>2021-08-01 00:12:34</td>\n",
       "      <td>714</td>\n",
       "      <td>1011</td>\n",
       "      <td>64.00</td>\n",
       "      <td>0</td>\n",
       "    </tr>\n",
       "    <tr>\n",
       "      <th>3</th>\n",
       "      <td>59386</td>\n",
       "      <td>2021-08-01 00:15:40</td>\n",
       "      <td>266</td>\n",
       "      <td>1969</td>\n",
       "      <td>12.72</td>\n",
       "      <td>0</td>\n",
       "    </tr>\n",
       "    <tr>\n",
       "      <th>4</th>\n",
       "      <td>59387</td>\n",
       "      <td>2021-08-01 00:16:01</td>\n",
       "      <td>890</td>\n",
       "      <td>1482</td>\n",
       "      <td>98.88</td>\n",
       "      <td>0</td>\n",
       "    </tr>\n",
       "  </tbody>\n",
       "</table>\n",
       "</div>"
      ],
      "text/plain": [
       "   TRANSACTION_ID          TX_DATETIME  CUSTOMER_ID  TERMINAL_ID  TX_AMOUNT  \\\n",
       "0           59383  2021-08-01 00:04:37          323          217       4.60   \n",
       "1           59384  2021-08-01 00:12:10            6          429       8.61   \n",
       "2           59385  2021-08-01 00:12:34          714         1011      64.00   \n",
       "3           59386  2021-08-01 00:15:40          266         1969      12.72   \n",
       "4           59387  2021-08-01 00:16:01          890         1482      98.88   \n",
       "\n",
       "   TX_FRAUD  \n",
       "0         0  \n",
       "1         0  \n",
       "2         0  \n",
       "3         0  \n",
       "4         0  "
      ]
     },
     "execution_count": 16,
     "metadata": {},
     "output_type": "execute_result"
    }
   ],
   "source": [
    "# Using .head() function to view the first rows/records of the \"train\" dataset \n",
    "train_df.head()"
   ]
  },
  {
   "cell_type": "code",
   "execution_count": 17,
   "metadata": {},
   "outputs": [
    {
     "data": {
      "text/plain": [
       "Index(['TRANSACTION_ID', 'TX_DATETIME', 'CUSTOMER_ID', 'TERMINAL_ID',\n",
       "       'TX_AMOUNT', 'TX_FRAUD'],\n",
       "      dtype='object')"
      ]
     },
     "execution_count": 17,
     "metadata": {},
     "output_type": "execute_result"
    }
   ],
   "source": [
    "# To visualize the columns names\n",
    "train_df.columns"
   ]
  },
  {
   "cell_type": "code",
   "execution_count": 18,
   "metadata": {},
   "outputs": [],
   "source": [
    "# Train Data Set has a column TX_FRAUD"
   ]
  },
  {
   "cell_type": "code",
   "execution_count": 19,
   "metadata": {},
   "outputs": [
    {
     "name": "stdout",
     "output_type": "stream",
     "text": [
      "<class 'pandas.core.frame.DataFrame'>\n",
      "RangeIndex: 291231 entries, 0 to 291230\n",
      "Data columns (total 6 columns):\n",
      " #   Column          Non-Null Count   Dtype  \n",
      "---  ------          --------------   -----  \n",
      " 0   TRANSACTION_ID  291231 non-null  int64  \n",
      " 1   TX_DATETIME     291231 non-null  object \n",
      " 2   CUSTOMER_ID     291231 non-null  int64  \n",
      " 3   TERMINAL_ID     291231 non-null  int64  \n",
      " 4   TX_AMOUNT       291231 non-null  float64\n",
      " 5   TX_FRAUD        291231 non-null  int64  \n",
      "dtypes: float64(1), int64(4), object(1)\n",
      "memory usage: 13.3+ MB\n"
     ]
    }
   ],
   "source": [
    "# Use .info() to show the features (i.e. columns) in your dataset along with a count and datatype\n",
    "train_df.info()"
   ]
  },
  {
   "cell_type": "code",
   "execution_count": 20,
   "metadata": {},
   "outputs": [
    {
     "data": {
      "text/html": [
       "<div>\n",
       "<style scoped>\n",
       "    .dataframe tbody tr th:only-of-type {\n",
       "        vertical-align: middle;\n",
       "    }\n",
       "\n",
       "    .dataframe tbody tr th {\n",
       "        vertical-align: top;\n",
       "    }\n",
       "\n",
       "    .dataframe thead th {\n",
       "        text-align: right;\n",
       "    }\n",
       "</style>\n",
       "<table border=\"1\" class=\"dataframe\">\n",
       "  <thead>\n",
       "    <tr style=\"text-align: right;\">\n",
       "      <th></th>\n",
       "      <th>TRANSACTION_ID</th>\n",
       "      <th>TX_DATETIME</th>\n",
       "      <th>CUSTOMER_ID</th>\n",
       "      <th>TERMINAL_ID</th>\n",
       "      <th>TX_AMOUNT</th>\n",
       "      <th>TX_FRAUD</th>\n",
       "    </tr>\n",
       "  </thead>\n",
       "  <tbody>\n",
       "    <tr>\n",
       "      <th>count</th>\n",
       "      <td>291231.000000</td>\n",
       "      <td>291231</td>\n",
       "      <td>291231.000000</td>\n",
       "      <td>291231.000000</td>\n",
       "      <td>291231.000000</td>\n",
       "      <td>291231.000000</td>\n",
       "    </tr>\n",
       "    <tr>\n",
       "      <th>unique</th>\n",
       "      <td>NaN</td>\n",
       "      <td>287096</td>\n",
       "      <td>NaN</td>\n",
       "      <td>NaN</td>\n",
       "      <td>NaN</td>\n",
       "      <td>NaN</td>\n",
       "    </tr>\n",
       "    <tr>\n",
       "      <th>top</th>\n",
       "      <td>NaN</td>\n",
       "      <td>2021-09-05 10:33:59</td>\n",
       "      <td>NaN</td>\n",
       "      <td>NaN</td>\n",
       "      <td>NaN</td>\n",
       "      <td>NaN</td>\n",
       "    </tr>\n",
       "    <tr>\n",
       "      <th>freq</th>\n",
       "      <td>NaN</td>\n",
       "      <td>3</td>\n",
       "      <td>NaN</td>\n",
       "      <td>NaN</td>\n",
       "      <td>NaN</td>\n",
       "      <td>NaN</td>\n",
       "    </tr>\n",
       "    <tr>\n",
       "      <th>mean</th>\n",
       "      <td>204998.000000</td>\n",
       "      <td>NaN</td>\n",
       "      <td>496.256202</td>\n",
       "      <td>993.718526</td>\n",
       "      <td>53.182274</td>\n",
       "      <td>0.022601</td>\n",
       "    </tr>\n",
       "    <tr>\n",
       "      <th>std</th>\n",
       "      <td>84071.292461</td>\n",
       "      <td>NaN</td>\n",
       "      <td>285.274966</td>\n",
       "      <td>575.267551</td>\n",
       "      <td>39.573329</td>\n",
       "      <td>0.148627</td>\n",
       "    </tr>\n",
       "    <tr>\n",
       "      <th>min</th>\n",
       "      <td>59383.000000</td>\n",
       "      <td>NaN</td>\n",
       "      <td>0.000000</td>\n",
       "      <td>0.000000</td>\n",
       "      <td>0.000000</td>\n",
       "      <td>0.000000</td>\n",
       "    </tr>\n",
       "    <tr>\n",
       "      <th>25%</th>\n",
       "      <td>132190.500000</td>\n",
       "      <td>NaN</td>\n",
       "      <td>249.000000</td>\n",
       "      <td>496.000000</td>\n",
       "      <td>21.130000</td>\n",
       "      <td>0.000000</td>\n",
       "    </tr>\n",
       "    <tr>\n",
       "      <th>50%</th>\n",
       "      <td>204998.000000</td>\n",
       "      <td>NaN</td>\n",
       "      <td>498.000000</td>\n",
       "      <td>1000.000000</td>\n",
       "      <td>44.770000</td>\n",
       "      <td>0.000000</td>\n",
       "    </tr>\n",
       "    <tr>\n",
       "      <th>75%</th>\n",
       "      <td>277805.500000</td>\n",
       "      <td>NaN</td>\n",
       "      <td>741.000000</td>\n",
       "      <td>1483.000000</td>\n",
       "      <td>76.850000</td>\n",
       "      <td>0.000000</td>\n",
       "    </tr>\n",
       "    <tr>\n",
       "      <th>max</th>\n",
       "      <td>350613.000000</td>\n",
       "      <td>NaN</td>\n",
       "      <td>999.000000</td>\n",
       "      <td>1999.000000</td>\n",
       "      <td>291.150000</td>\n",
       "      <td>1.000000</td>\n",
       "    </tr>\n",
       "  </tbody>\n",
       "</table>\n",
       "</div>"
      ],
      "text/plain": [
       "        TRANSACTION_ID          TX_DATETIME    CUSTOMER_ID    TERMINAL_ID  \\\n",
       "count    291231.000000               291231  291231.000000  291231.000000   \n",
       "unique             NaN               287096            NaN            NaN   \n",
       "top                NaN  2021-09-05 10:33:59            NaN            NaN   \n",
       "freq               NaN                    3            NaN            NaN   \n",
       "mean     204998.000000                  NaN     496.256202     993.718526   \n",
       "std       84071.292461                  NaN     285.274966     575.267551   \n",
       "min       59383.000000                  NaN       0.000000       0.000000   \n",
       "25%      132190.500000                  NaN     249.000000     496.000000   \n",
       "50%      204998.000000                  NaN     498.000000    1000.000000   \n",
       "75%      277805.500000                  NaN     741.000000    1483.000000   \n",
       "max      350613.000000                  NaN     999.000000    1999.000000   \n",
       "\n",
       "            TX_AMOUNT       TX_FRAUD  \n",
       "count   291231.000000  291231.000000  \n",
       "unique            NaN            NaN  \n",
       "top               NaN            NaN  \n",
       "freq              NaN            NaN  \n",
       "mean        53.182274       0.022601  \n",
       "std         39.573329       0.148627  \n",
       "min          0.000000       0.000000  \n",
       "25%         21.130000       0.000000  \n",
       "50%         44.770000       0.000000  \n",
       "75%         76.850000       0.000000  \n",
       "max        291.150000       1.000000  "
      ]
     },
     "execution_count": 20,
     "metadata": {},
     "output_type": "execute_result"
    }
   ],
   "source": [
    "# Use .describe() to see metrics about the dataset (count, mean, std, min, 25%, 50%, 75%, max)\n",
    "train_df.describe(include='all')"
   ]
  },
  {
   "cell_type": "code",
   "execution_count": 21,
   "metadata": {},
   "outputs": [
    {
     "data": {
      "text/plain": [
       "TRANSACTION_ID    0\n",
       "TX_DATETIME       0\n",
       "CUSTOMER_ID       0\n",
       "TERMINAL_ID       0\n",
       "TX_AMOUNT         0\n",
       "TX_FRAUD          0\n",
       "dtype: int64"
      ]
     },
     "execution_count": 21,
     "metadata": {},
     "output_type": "execute_result"
    }
   ],
   "source": [
    "# Verify which features have missing values\n",
    "train_df.isnull().sum()"
   ]
  },
  {
   "cell_type": "code",
   "execution_count": 22,
   "metadata": {},
   "outputs": [
    {
     "name": "stdout",
     "output_type": "stream",
     "text": [
      "Total Duplicates: 0\n"
     ]
    }
   ],
   "source": [
    "# Validating there is not duplicated values\n",
    "total_duplicates = train_df.duplicated().sum()\n",
    "print(\"Total Duplicates:\", total_duplicates)"
   ]
  },
  {
   "cell_type": "code",
   "execution_count": 23,
   "metadata": {},
   "outputs": [
    {
     "data": {
      "text/html": [
       "<div>\n",
       "<style scoped>\n",
       "    .dataframe tbody tr th:only-of-type {\n",
       "        vertical-align: middle;\n",
       "    }\n",
       "\n",
       "    .dataframe tbody tr th {\n",
       "        vertical-align: top;\n",
       "    }\n",
       "\n",
       "    .dataframe thead th {\n",
       "        text-align: right;\n",
       "    }\n",
       "</style>\n",
       "<table border=\"1\" class=\"dataframe\">\n",
       "  <thead>\n",
       "    <tr style=\"text-align: right;\">\n",
       "      <th></th>\n",
       "      <th>TRANSACTION_ID</th>\n",
       "      <th>TX_DATETIME</th>\n",
       "      <th>CUSTOMER_ID</th>\n",
       "      <th>TERMINAL_ID</th>\n",
       "      <th>TX_AMOUNT</th>\n",
       "    </tr>\n",
       "  </thead>\n",
       "  <tbody>\n",
       "    <tr>\n",
       "      <th>0</th>\n",
       "      <td>352590</td>\n",
       "      <td>2022-01-01 00:03:14</td>\n",
       "      <td>208</td>\n",
       "      <td>640</td>\n",
       "      <td>147.24</td>\n",
       "    </tr>\n",
       "    <tr>\n",
       "      <th>1</th>\n",
       "      <td>352591</td>\n",
       "      <td>2022-01-01 00:26:39</td>\n",
       "      <td>851</td>\n",
       "      <td>315</td>\n",
       "      <td>13.27</td>\n",
       "    </tr>\n",
       "    <tr>\n",
       "      <th>2</th>\n",
       "      <td>352592</td>\n",
       "      <td>2022-01-01 00:30:30</td>\n",
       "      <td>454</td>\n",
       "      <td>27</td>\n",
       "      <td>70.52</td>\n",
       "    </tr>\n",
       "    <tr>\n",
       "      <th>3</th>\n",
       "      <td>352593</td>\n",
       "      <td>2022-01-01 00:31:31</td>\n",
       "      <td>677</td>\n",
       "      <td>1573</td>\n",
       "      <td>44.75</td>\n",
       "    </tr>\n",
       "    <tr>\n",
       "      <th>4</th>\n",
       "      <td>352594</td>\n",
       "      <td>2022-01-01 00:56:18</td>\n",
       "      <td>322</td>\n",
       "      <td>1398</td>\n",
       "      <td>37.60</td>\n",
       "    </tr>\n",
       "  </tbody>\n",
       "</table>\n",
       "</div>"
      ],
      "text/plain": [
       "   TRANSACTION_ID          TX_DATETIME  CUSTOMER_ID  TERMINAL_ID  TX_AMOUNT\n",
       "0          352590  2022-01-01 00:03:14          208          640     147.24\n",
       "1          352591  2022-01-01 00:26:39          851          315      13.27\n",
       "2          352592  2022-01-01 00:30:30          454           27      70.52\n",
       "3          352593  2022-01-01 00:31:31          677         1573      44.75\n",
       "4          352594  2022-01-01 00:56:18          322         1398      37.60"
      ]
     },
     "execution_count": 23,
     "metadata": {},
     "output_type": "execute_result"
    }
   ],
   "source": [
    "# Using .head() function to view the first rows/records of the \"test\" dataset \n",
    "test_df.head()"
   ]
  },
  {
   "cell_type": "code",
   "execution_count": 24,
   "metadata": {},
   "outputs": [
    {
     "data": {
      "text/plain": [
       "Index(['TRANSACTION_ID', 'TX_DATETIME', 'CUSTOMER_ID', 'TERMINAL_ID',\n",
       "       'TX_AMOUNT'],\n",
       "      dtype='object')"
      ]
     },
     "execution_count": 24,
     "metadata": {},
     "output_type": "execute_result"
    }
   ],
   "source": [
    "# To visualize the columns names\n",
    "test_df.columns"
   ]
  },
  {
   "cell_type": "code",
   "execution_count": 25,
   "metadata": {},
   "outputs": [
    {
     "name": "stdout",
     "output_type": "stream",
     "text": [
      "<class 'pandas.core.frame.DataFrame'>\n",
      "RangeIndex: 226731 entries, 0 to 226730\n",
      "Data columns (total 5 columns):\n",
      " #   Column          Non-Null Count   Dtype  \n",
      "---  ------          --------------   -----  \n",
      " 0   TRANSACTION_ID  226731 non-null  int64  \n",
      " 1   TX_DATETIME     226731 non-null  object \n",
      " 2   CUSTOMER_ID     226731 non-null  int64  \n",
      " 3   TERMINAL_ID     226731 non-null  int64  \n",
      " 4   TX_AMOUNT       226731 non-null  float64\n",
      "dtypes: float64(1), int64(3), object(1)\n",
      "memory usage: 8.6+ MB\n"
     ]
    }
   ],
   "source": [
    "# Use .info() to show the features (i.e. columns) in your dataset along with a count and datatype\n",
    "test_df.info()"
   ]
  },
  {
   "cell_type": "code",
   "execution_count": 26,
   "metadata": {},
   "outputs": [
    {
     "data": {
      "text/html": [
       "<div>\n",
       "<style scoped>\n",
       "    .dataframe tbody tr th:only-of-type {\n",
       "        vertical-align: middle;\n",
       "    }\n",
       "\n",
       "    .dataframe tbody tr th {\n",
       "        vertical-align: top;\n",
       "    }\n",
       "\n",
       "    .dataframe thead th {\n",
       "        text-align: right;\n",
       "    }\n",
       "</style>\n",
       "<table border=\"1\" class=\"dataframe\">\n",
       "  <thead>\n",
       "    <tr style=\"text-align: right;\">\n",
       "      <th></th>\n",
       "      <th>TRANSACTION_ID</th>\n",
       "      <th>TX_DATETIME</th>\n",
       "      <th>CUSTOMER_ID</th>\n",
       "      <th>TERMINAL_ID</th>\n",
       "      <th>TX_AMOUNT</th>\n",
       "    </tr>\n",
       "  </thead>\n",
       "  <tbody>\n",
       "    <tr>\n",
       "      <th>count</th>\n",
       "      <td>226731.000000</td>\n",
       "      <td>226731</td>\n",
       "      <td>226731.000000</td>\n",
       "      <td>226731.000000</td>\n",
       "      <td>226731.000000</td>\n",
       "    </tr>\n",
       "    <tr>\n",
       "      <th>unique</th>\n",
       "      <td>NaN</td>\n",
       "      <td>223535</td>\n",
       "      <td>NaN</td>\n",
       "      <td>NaN</td>\n",
       "      <td>NaN</td>\n",
       "    </tr>\n",
       "    <tr>\n",
       "      <th>top</th>\n",
       "      <td>NaN</td>\n",
       "      <td>2022-01-27 16:46:20</td>\n",
       "      <td>NaN</td>\n",
       "      <td>NaN</td>\n",
       "      <td>NaN</td>\n",
       "    </tr>\n",
       "    <tr>\n",
       "      <th>freq</th>\n",
       "      <td>NaN</td>\n",
       "      <td>3</td>\n",
       "      <td>NaN</td>\n",
       "      <td>NaN</td>\n",
       "      <td>NaN</td>\n",
       "    </tr>\n",
       "    <tr>\n",
       "      <th>mean</th>\n",
       "      <td>465955.000000</td>\n",
       "      <td>NaN</td>\n",
       "      <td>496.092255</td>\n",
       "      <td>995.198129</td>\n",
       "      <td>53.229134</td>\n",
       "    </tr>\n",
       "    <tr>\n",
       "      <th>std</th>\n",
       "      <td>65451.746279</td>\n",
       "      <td>NaN</td>\n",
       "      <td>285.117396</td>\n",
       "      <td>575.763159</td>\n",
       "      <td>39.569785</td>\n",
       "    </tr>\n",
       "    <tr>\n",
       "      <th>min</th>\n",
       "      <td>352590.000000</td>\n",
       "      <td>NaN</td>\n",
       "      <td>0.000000</td>\n",
       "      <td>0.000000</td>\n",
       "      <td>0.000000</td>\n",
       "    </tr>\n",
       "    <tr>\n",
       "      <th>25%</th>\n",
       "      <td>409272.500000</td>\n",
       "      <td>NaN</td>\n",
       "      <td>249.000000</td>\n",
       "      <td>495.000000</td>\n",
       "      <td>21.210000</td>\n",
       "    </tr>\n",
       "    <tr>\n",
       "      <th>50%</th>\n",
       "      <td>465955.000000</td>\n",
       "      <td>NaN</td>\n",
       "      <td>498.000000</td>\n",
       "      <td>1002.000000</td>\n",
       "      <td>44.830000</td>\n",
       "    </tr>\n",
       "    <tr>\n",
       "      <th>75%</th>\n",
       "      <td>522637.500000</td>\n",
       "      <td>NaN</td>\n",
       "      <td>740.000000</td>\n",
       "      <td>1487.000000</td>\n",
       "      <td>76.850000</td>\n",
       "    </tr>\n",
       "    <tr>\n",
       "      <th>max</th>\n",
       "      <td>579320.000000</td>\n",
       "      <td>NaN</td>\n",
       "      <td>999.000000</td>\n",
       "      <td>1999.000000</td>\n",
       "      <td>304.990000</td>\n",
       "    </tr>\n",
       "  </tbody>\n",
       "</table>\n",
       "</div>"
      ],
      "text/plain": [
       "        TRANSACTION_ID          TX_DATETIME    CUSTOMER_ID    TERMINAL_ID  \\\n",
       "count    226731.000000               226731  226731.000000  226731.000000   \n",
       "unique             NaN               223535            NaN            NaN   \n",
       "top                NaN  2022-01-27 16:46:20            NaN            NaN   \n",
       "freq               NaN                    3            NaN            NaN   \n",
       "mean     465955.000000                  NaN     496.092255     995.198129   \n",
       "std       65451.746279                  NaN     285.117396     575.763159   \n",
       "min      352590.000000                  NaN       0.000000       0.000000   \n",
       "25%      409272.500000                  NaN     249.000000     495.000000   \n",
       "50%      465955.000000                  NaN     498.000000    1002.000000   \n",
       "75%      522637.500000                  NaN     740.000000    1487.000000   \n",
       "max      579320.000000                  NaN     999.000000    1999.000000   \n",
       "\n",
       "            TX_AMOUNT  \n",
       "count   226731.000000  \n",
       "unique            NaN  \n",
       "top               NaN  \n",
       "freq              NaN  \n",
       "mean        53.229134  \n",
       "std         39.569785  \n",
       "min          0.000000  \n",
       "25%         21.210000  \n",
       "50%         44.830000  \n",
       "75%         76.850000  \n",
       "max        304.990000  "
      ]
     },
     "execution_count": 26,
     "metadata": {},
     "output_type": "execute_result"
    }
   ],
   "source": [
    "# Use .describe() to see metrics about the dataset (count, mean, std, min, 25%, 50%, 75%, max)\n",
    "test_df.describe(include='all')"
   ]
  },
  {
   "cell_type": "code",
   "execution_count": 27,
   "metadata": {},
   "outputs": [
    {
     "data": {
      "text/plain": [
       "TRANSACTION_ID    0\n",
       "TX_DATETIME       0\n",
       "CUSTOMER_ID       0\n",
       "TERMINAL_ID       0\n",
       "TX_AMOUNT         0\n",
       "dtype: int64"
      ]
     },
     "execution_count": 27,
     "metadata": {},
     "output_type": "execute_result"
    }
   ],
   "source": [
    "# Verify which features have missing values\n",
    "test_df.isnull().sum()"
   ]
  },
  {
   "cell_type": "code",
   "execution_count": 28,
   "metadata": {},
   "outputs": [
    {
     "name": "stdout",
     "output_type": "stream",
     "text": [
      "Total Duplicates: 0\n"
     ]
    }
   ],
   "source": [
    "# Validating there is not duplicated values\n",
    "total_duplicates_test = test_df.duplicated().sum()\n",
    "print(\"Total Duplicates:\", total_duplicates_test)"
   ]
  },
  {
   "cell_type": "code",
   "execution_count": 32,
   "metadata": {},
   "outputs": [],
   "source": [
    "# There is not null values or null values the original data set. \n",
    "# However we can see data type object in the column \"available_terminals\" of customer file the same for the \"TX_DATETIME\" columns in train and test files"
   ]
  },
  {
   "cell_type": "code",
   "execution_count": 33,
   "metadata": {},
   "outputs": [],
   "source": [
    "#train_df['TX_FRAUD'].value_counts()"
   ]
  },
  {
   "cell_type": "markdown",
   "metadata": {},
   "source": [
    "## Use visualizations to understand the relationship of the target variable with other features"
   ]
  },
  {
   "cell_type": "code",
   "execution_count": 29,
   "metadata": {},
   "outputs": [
    {
     "name": "stdout",
     "output_type": "stream",
     "text": [
      "Number of Fraud: 6582\n",
      "Number of NOT Fraud: 284649\n",
      "The ratio between the two is: 0.022600616005851025 Fraud, 0.9773993839941489 Not Fraud\n"
     ]
    }
   ],
   "source": [
    "\n",
    "# Change to catgorical column\n",
    "train_df['TX_FRAUD'] = train_df['TX_FRAUD'].astype(str)\n",
    "\n",
    "#Obtain the value counts and print them. We reset the index to make this a bit easier to plot.\n",
    "fraud_v_counts = train_df['TX_FRAUD'].value_counts().reset_index()\n",
    "#Rename the columns of this (now) df. \n",
    "fraud_v_counts.columns = ['Fraud', 'Value_Count']\n",
    "#Recode the type, again, for plotting. Here, I will just rename the column values as well.\n",
    "col_values = ['Not Fraud', 'Is Fraud']\n",
    "fraud_v_counts['Fraud'] = col_values\n",
    "\n",
    "print(f\"Number of Fraud: {fraud_v_counts['Value_Count'][1]}\\nNumber of NOT Fraud: {fraud_v_counts['Value_Count'][0]}\")\n",
    "print(f\"The ratio between the two is: \" \\\n",
    "f\"{fraud_v_counts['Value_Count'][1]/(fraud_v_counts['Value_Count'][1]+fraud_v_counts['Value_Count'][0])} Fraud, \" \\\n",
    "f\"{fraud_v_counts['Value_Count'][0]/(fraud_v_counts['Value_Count'][1]+fraud_v_counts['Value_Count'][0])} Not Fraud\")"
   ]
  },
  {
   "cell_type": "code",
   "execution_count": 30,
   "metadata": {},
   "outputs": [
    {
     "data": {
      "application/vnd.plotly.v1+json": {
       "config": {
        "plotlyServerURL": "https://plot.ly"
       },
       "data": [
        {
         "alignmentgroup": "True",
         "hovertemplate": "Fraud=%{x}<br>Value_Count=%{y}<extra></extra>",
         "legendgroup": "Not Fraud",
         "marker": {
          "color": "#300085",
          "line": {
           "color": "Blue",
           "width": 2.33
          },
          "pattern": {
           "shape": ""
          }
         },
         "name": "Not Fraud",
         "offsetgroup": "Not Fraud",
         "orientation": "v",
         "showlegend": true,
         "textposition": "auto",
         "type": "bar",
         "x": [
          "Not Fraud"
         ],
         "xaxis": "x",
         "y": [
          284649
         ],
         "yaxis": "y"
        },
        {
         "alignmentgroup": "True",
         "hovertemplate": "Fraud=%{x}<br>Value_Count=%{y}<extra></extra>",
         "legendgroup": "Is Fraud",
         "marker": {
          "color": "#87CEEB",
          "line": {
           "color": "Blue",
           "width": 2.33
          },
          "pattern": {
           "shape": ""
          }
         },
         "name": "Is Fraud",
         "offsetgroup": "Is Fraud",
         "orientation": "v",
         "showlegend": true,
         "textposition": "auto",
         "type": "bar",
         "x": [
          "Is Fraud"
         ],
         "xaxis": "x",
         "y": [
          6582
         ],
         "yaxis": "y"
        }
       ],
       "layout": {
        "barmode": "relative",
        "font": {
         "color": "black",
         "family": "Gill Sans MT",
         "size": 24
        },
        "height": 600,
        "legend": {
         "title": {
          "text": "Fraud"
         },
         "tracegroupgap": 0
        },
        "showlegend": false,
        "template": {
         "data": {
          "bar": [
           {
            "error_x": {
             "color": "#2a3f5f"
            },
            "error_y": {
             "color": "#2a3f5f"
            },
            "marker": {
             "line": {
              "color": "#E5ECF6",
              "width": 0.5
             },
             "pattern": {
              "fillmode": "overlay",
              "size": 10,
              "solidity": 0.2
             }
            },
            "type": "bar"
           }
          ],
          "barpolar": [
           {
            "marker": {
             "line": {
              "color": "#E5ECF6",
              "width": 0.5
             },
             "pattern": {
              "fillmode": "overlay",
              "size": 10,
              "solidity": 0.2
             }
            },
            "type": "barpolar"
           }
          ],
          "carpet": [
           {
            "aaxis": {
             "endlinecolor": "#2a3f5f",
             "gridcolor": "white",
             "linecolor": "white",
             "minorgridcolor": "white",
             "startlinecolor": "#2a3f5f"
            },
            "baxis": {
             "endlinecolor": "#2a3f5f",
             "gridcolor": "white",
             "linecolor": "white",
             "minorgridcolor": "white",
             "startlinecolor": "#2a3f5f"
            },
            "type": "carpet"
           }
          ],
          "choropleth": [
           {
            "colorbar": {
             "outlinewidth": 0,
             "ticks": ""
            },
            "type": "choropleth"
           }
          ],
          "contour": [
           {
            "colorbar": {
             "outlinewidth": 0,
             "ticks": ""
            },
            "colorscale": [
             [
              0,
              "#0d0887"
             ],
             [
              0.1111111111111111,
              "#46039f"
             ],
             [
              0.2222222222222222,
              "#7201a8"
             ],
             [
              0.3333333333333333,
              "#9c179e"
             ],
             [
              0.4444444444444444,
              "#bd3786"
             ],
             [
              0.5555555555555556,
              "#d8576b"
             ],
             [
              0.6666666666666666,
              "#ed7953"
             ],
             [
              0.7777777777777778,
              "#fb9f3a"
             ],
             [
              0.8888888888888888,
              "#fdca26"
             ],
             [
              1,
              "#f0f921"
             ]
            ],
            "type": "contour"
           }
          ],
          "contourcarpet": [
           {
            "colorbar": {
             "outlinewidth": 0,
             "ticks": ""
            },
            "type": "contourcarpet"
           }
          ],
          "heatmap": [
           {
            "colorbar": {
             "outlinewidth": 0,
             "ticks": ""
            },
            "colorscale": [
             [
              0,
              "#0d0887"
             ],
             [
              0.1111111111111111,
              "#46039f"
             ],
             [
              0.2222222222222222,
              "#7201a8"
             ],
             [
              0.3333333333333333,
              "#9c179e"
             ],
             [
              0.4444444444444444,
              "#bd3786"
             ],
             [
              0.5555555555555556,
              "#d8576b"
             ],
             [
              0.6666666666666666,
              "#ed7953"
             ],
             [
              0.7777777777777778,
              "#fb9f3a"
             ],
             [
              0.8888888888888888,
              "#fdca26"
             ],
             [
              1,
              "#f0f921"
             ]
            ],
            "type": "heatmap"
           }
          ],
          "heatmapgl": [
           {
            "colorbar": {
             "outlinewidth": 0,
             "ticks": ""
            },
            "colorscale": [
             [
              0,
              "#0d0887"
             ],
             [
              0.1111111111111111,
              "#46039f"
             ],
             [
              0.2222222222222222,
              "#7201a8"
             ],
             [
              0.3333333333333333,
              "#9c179e"
             ],
             [
              0.4444444444444444,
              "#bd3786"
             ],
             [
              0.5555555555555556,
              "#d8576b"
             ],
             [
              0.6666666666666666,
              "#ed7953"
             ],
             [
              0.7777777777777778,
              "#fb9f3a"
             ],
             [
              0.8888888888888888,
              "#fdca26"
             ],
             [
              1,
              "#f0f921"
             ]
            ],
            "type": "heatmapgl"
           }
          ],
          "histogram": [
           {
            "marker": {
             "pattern": {
              "fillmode": "overlay",
              "size": 10,
              "solidity": 0.2
             }
            },
            "type": "histogram"
           }
          ],
          "histogram2d": [
           {
            "colorbar": {
             "outlinewidth": 0,
             "ticks": ""
            },
            "colorscale": [
             [
              0,
              "#0d0887"
             ],
             [
              0.1111111111111111,
              "#46039f"
             ],
             [
              0.2222222222222222,
              "#7201a8"
             ],
             [
              0.3333333333333333,
              "#9c179e"
             ],
             [
              0.4444444444444444,
              "#bd3786"
             ],
             [
              0.5555555555555556,
              "#d8576b"
             ],
             [
              0.6666666666666666,
              "#ed7953"
             ],
             [
              0.7777777777777778,
              "#fb9f3a"
             ],
             [
              0.8888888888888888,
              "#fdca26"
             ],
             [
              1,
              "#f0f921"
             ]
            ],
            "type": "histogram2d"
           }
          ],
          "histogram2dcontour": [
           {
            "colorbar": {
             "outlinewidth": 0,
             "ticks": ""
            },
            "colorscale": [
             [
              0,
              "#0d0887"
             ],
             [
              0.1111111111111111,
              "#46039f"
             ],
             [
              0.2222222222222222,
              "#7201a8"
             ],
             [
              0.3333333333333333,
              "#9c179e"
             ],
             [
              0.4444444444444444,
              "#bd3786"
             ],
             [
              0.5555555555555556,
              "#d8576b"
             ],
             [
              0.6666666666666666,
              "#ed7953"
             ],
             [
              0.7777777777777778,
              "#fb9f3a"
             ],
             [
              0.8888888888888888,
              "#fdca26"
             ],
             [
              1,
              "#f0f921"
             ]
            ],
            "type": "histogram2dcontour"
           }
          ],
          "mesh3d": [
           {
            "colorbar": {
             "outlinewidth": 0,
             "ticks": ""
            },
            "type": "mesh3d"
           }
          ],
          "parcoords": [
           {
            "line": {
             "colorbar": {
              "outlinewidth": 0,
              "ticks": ""
             }
            },
            "type": "parcoords"
           }
          ],
          "pie": [
           {
            "automargin": true,
            "type": "pie"
           }
          ],
          "scatter": [
           {
            "fillpattern": {
             "fillmode": "overlay",
             "size": 10,
             "solidity": 0.2
            },
            "type": "scatter"
           }
          ],
          "scatter3d": [
           {
            "line": {
             "colorbar": {
              "outlinewidth": 0,
              "ticks": ""
             }
            },
            "marker": {
             "colorbar": {
              "outlinewidth": 0,
              "ticks": ""
             }
            },
            "type": "scatter3d"
           }
          ],
          "scattercarpet": [
           {
            "marker": {
             "colorbar": {
              "outlinewidth": 0,
              "ticks": ""
             }
            },
            "type": "scattercarpet"
           }
          ],
          "scattergeo": [
           {
            "marker": {
             "colorbar": {
              "outlinewidth": 0,
              "ticks": ""
             }
            },
            "type": "scattergeo"
           }
          ],
          "scattergl": [
           {
            "marker": {
             "colorbar": {
              "outlinewidth": 0,
              "ticks": ""
             }
            },
            "type": "scattergl"
           }
          ],
          "scattermapbox": [
           {
            "marker": {
             "colorbar": {
              "outlinewidth": 0,
              "ticks": ""
             }
            },
            "type": "scattermapbox"
           }
          ],
          "scatterpolar": [
           {
            "marker": {
             "colorbar": {
              "outlinewidth": 0,
              "ticks": ""
             }
            },
            "type": "scatterpolar"
           }
          ],
          "scatterpolargl": [
           {
            "marker": {
             "colorbar": {
              "outlinewidth": 0,
              "ticks": ""
             }
            },
            "type": "scatterpolargl"
           }
          ],
          "scatterternary": [
           {
            "marker": {
             "colorbar": {
              "outlinewidth": 0,
              "ticks": ""
             }
            },
            "type": "scatterternary"
           }
          ],
          "surface": [
           {
            "colorbar": {
             "outlinewidth": 0,
             "ticks": ""
            },
            "colorscale": [
             [
              0,
              "#0d0887"
             ],
             [
              0.1111111111111111,
              "#46039f"
             ],
             [
              0.2222222222222222,
              "#7201a8"
             ],
             [
              0.3333333333333333,
              "#9c179e"
             ],
             [
              0.4444444444444444,
              "#bd3786"
             ],
             [
              0.5555555555555556,
              "#d8576b"
             ],
             [
              0.6666666666666666,
              "#ed7953"
             ],
             [
              0.7777777777777778,
              "#fb9f3a"
             ],
             [
              0.8888888888888888,
              "#fdca26"
             ],
             [
              1,
              "#f0f921"
             ]
            ],
            "type": "surface"
           }
          ],
          "table": [
           {
            "cells": {
             "fill": {
              "color": "#EBF0F8"
             },
             "line": {
              "color": "white"
             }
            },
            "header": {
             "fill": {
              "color": "#C8D4E3"
             },
             "line": {
              "color": "white"
             }
            },
            "type": "table"
           }
          ]
         },
         "layout": {
          "annotationdefaults": {
           "arrowcolor": "#2a3f5f",
           "arrowhead": 0,
           "arrowwidth": 1
          },
          "autotypenumbers": "strict",
          "coloraxis": {
           "colorbar": {
            "outlinewidth": 0,
            "ticks": ""
           }
          },
          "colorscale": {
           "diverging": [
            [
             0,
             "#8e0152"
            ],
            [
             0.1,
             "#c51b7d"
            ],
            [
             0.2,
             "#de77ae"
            ],
            [
             0.3,
             "#f1b6da"
            ],
            [
             0.4,
             "#fde0ef"
            ],
            [
             0.5,
             "#f7f7f7"
            ],
            [
             0.6,
             "#e6f5d0"
            ],
            [
             0.7,
             "#b8e186"
            ],
            [
             0.8,
             "#7fbc41"
            ],
            [
             0.9,
             "#4d9221"
            ],
            [
             1,
             "#276419"
            ]
           ],
           "sequential": [
            [
             0,
             "#0d0887"
            ],
            [
             0.1111111111111111,
             "#46039f"
            ],
            [
             0.2222222222222222,
             "#7201a8"
            ],
            [
             0.3333333333333333,
             "#9c179e"
            ],
            [
             0.4444444444444444,
             "#bd3786"
            ],
            [
             0.5555555555555556,
             "#d8576b"
            ],
            [
             0.6666666666666666,
             "#ed7953"
            ],
            [
             0.7777777777777778,
             "#fb9f3a"
            ],
            [
             0.8888888888888888,
             "#fdca26"
            ],
            [
             1,
             "#f0f921"
            ]
           ],
           "sequentialminus": [
            [
             0,
             "#0d0887"
            ],
            [
             0.1111111111111111,
             "#46039f"
            ],
            [
             0.2222222222222222,
             "#7201a8"
            ],
            [
             0.3333333333333333,
             "#9c179e"
            ],
            [
             0.4444444444444444,
             "#bd3786"
            ],
            [
             0.5555555555555556,
             "#d8576b"
            ],
            [
             0.6666666666666666,
             "#ed7953"
            ],
            [
             0.7777777777777778,
             "#fb9f3a"
            ],
            [
             0.8888888888888888,
             "#fdca26"
            ],
            [
             1,
             "#f0f921"
            ]
           ]
          },
          "colorway": [
           "#636efa",
           "#EF553B",
           "#00cc96",
           "#ab63fa",
           "#FFA15A",
           "#19d3f3",
           "#FF6692",
           "#B6E880",
           "#FF97FF",
           "#FECB52"
          ],
          "font": {
           "color": "#2a3f5f"
          },
          "geo": {
           "bgcolor": "white",
           "lakecolor": "white",
           "landcolor": "#E5ECF6",
           "showlakes": true,
           "showland": true,
           "subunitcolor": "white"
          },
          "hoverlabel": {
           "align": "left"
          },
          "hovermode": "closest",
          "mapbox": {
           "style": "light"
          },
          "paper_bgcolor": "white",
          "plot_bgcolor": "#E5ECF6",
          "polar": {
           "angularaxis": {
            "gridcolor": "white",
            "linecolor": "white",
            "ticks": ""
           },
           "bgcolor": "#E5ECF6",
           "radialaxis": {
            "gridcolor": "white",
            "linecolor": "white",
            "ticks": ""
           }
          },
          "scene": {
           "xaxis": {
            "backgroundcolor": "#E5ECF6",
            "gridcolor": "white",
            "gridwidth": 2,
            "linecolor": "white",
            "showbackground": true,
            "ticks": "",
            "zerolinecolor": "white"
           },
           "yaxis": {
            "backgroundcolor": "#E5ECF6",
            "gridcolor": "white",
            "gridwidth": 2,
            "linecolor": "white",
            "showbackground": true,
            "ticks": "",
            "zerolinecolor": "white"
           },
           "zaxis": {
            "backgroundcolor": "#E5ECF6",
            "gridcolor": "white",
            "gridwidth": 2,
            "linecolor": "white",
            "showbackground": true,
            "ticks": "",
            "zerolinecolor": "white"
           }
          },
          "shapedefaults": {
           "line": {
            "color": "#2a3f5f"
           }
          },
          "ternary": {
           "aaxis": {
            "gridcolor": "white",
            "linecolor": "white",
            "ticks": ""
           },
           "baxis": {
            "gridcolor": "white",
            "linecolor": "white",
            "ticks": ""
           },
           "bgcolor": "#E5ECF6",
           "caxis": {
            "gridcolor": "white",
            "linecolor": "white",
            "ticks": ""
           }
          },
          "title": {
           "x": 0.05
          },
          "xaxis": {
           "automargin": true,
           "gridcolor": "white",
           "linecolor": "white",
           "ticks": "",
           "title": {
            "standoff": 15
           },
           "zerolinecolor": "white",
           "zerolinewidth": 2
          },
          "yaxis": {
           "automargin": true,
           "gridcolor": "white",
           "linecolor": "white",
           "ticks": "",
           "title": {
            "standoff": 15
           },
           "zerolinecolor": "white",
           "zerolinewidth": 2
          }
         }
        },
        "title": {
         "text": "Value Counts of Target Variable 'fraud'",
         "x": 0.5
        },
        "xaxis": {
         "anchor": "y",
         "categoryarray": [
          "Not Fraud",
          "Is Fraud"
         ],
         "categoryorder": "array",
         "domain": [
          0,
          1
         ],
         "ticktext": [
          "Not Fraud",
          "Is Fraud"
         ],
         "tickvals": [
          0,
          1
         ],
         "title": {
          "text": ""
         }
        },
        "yaxis": {
         "anchor": "x",
         "domain": [
          0,
          1
         ],
         "title": {
          "text": "Frequency"
         }
        }
       }
      }
     },
     "metadata": {},
     "output_type": "display_data"
    }
   ],
   "source": [
    "# Plot the distribution of the target variable (TX_FRAUD) using a histogram\n",
    "\n",
    "# Utilizing value counts for the categorical column\n",
    "fig = px.bar(fraud_v_counts, x='Fraud', y='Value_Count', title=\"Value Counts of Target Variable 'fraud'\",\n",
    "            color='Fraud', color_discrete_map={\n",
    "                'Not Fraud': '#300085',\n",
    "                'Is Fraud': '#87CEEB'\n",
    "            })\n",
    "\n",
    "# Set the title, font, and axis names\n",
    "fig.update_layout(\n",
    "    title_x=0.5,  #Center the title\n",
    "    font=dict(family=\"Gill Sans MT\", color=\"black\",size=24),\n",
    "    xaxis_title=\"\",\n",
    "    yaxis_title=\"Frequency\",\n",
    "    showlegend=False,\n",
    "    height=600\n",
    ")\n",
    "\n",
    "# Set x-axis tick values\n",
    "fig.update_xaxes(tickvals=[0, 1], ticktext=['Not Fraud', 'Is Fraud'])\n",
    "fig.update_traces(marker_line_color='Blue', marker_line_width=2.33)\n",
    "fig.show()"
   ]
  },
  {
   "cell_type": "code",
   "execution_count": 31,
   "metadata": {},
   "outputs": [],
   "source": [
    "# We can see that the classes are unbalanced. Showing a significatively difference between the amount of records for Not fraud than Is Fraud."
   ]
  },
  {
   "cell_type": "code",
   "execution_count": 32,
   "metadata": {},
   "outputs": [
    {
     "data": {
      "image/png": "[encoded data removed]",
      "text/plain": [
       "<Figure size 640x480 with 1 Axes>"
      ]
     },
     "metadata": {},
     "output_type": "display_data"
    }
   ],
   "source": [
    "plt.figure()\n",
    "sns.histplot(data=train_df, x='TX_AMOUNT', kde=True, color='Green')\n",
    "plt.title('Amount Transacted Distribution')\n",
    "plt.xlabel('Amount')\n",
    "plt.ylabel('Count')\n",
    "plt.show()"
   ]
  },
  {
   "cell_type": "code",
   "execution_count": 33,
   "metadata": {},
   "outputs": [
    {
     "data": {
      "image/png": "[encoded data removed]",
      "text/plain": [
       "<Figure size 640x480 with 1 Axes>"
      ]
     },
     "metadata": {},
     "output_type": "display_data"
    }
   ],
   "source": [
    "plt.figure()\n",
    "\n",
    "# Group the DataFrame by the Customer_ID column and count occurrences\n",
    "transaction_counts = train_df.groupby('CUSTOMER_ID').size()\n",
    "sns.histplot(data=train_df, x=transaction_counts, kde=True, color='skyblue')\n",
    "plt.title('Amount Transacted Distribution')\n",
    "plt.xlabel('Amount')\n",
    "plt.ylabel('Count')\n",
    "plt.show()"
   ]
  },
  {
   "cell_type": "markdown",
   "metadata": {},
   "source": [
    "## Prepare & Preprocess Data"
   ]
  },
  {
   "cell_type": "code",
   "execution_count": 34,
   "metadata": {},
   "outputs": [
    {
     "data": {
      "text/html": [
       "<div>\n",
       "<style scoped>\n",
       "    .dataframe tbody tr th:only-of-type {\n",
       "        vertical-align: middle;\n",
       "    }\n",
       "\n",
       "    .dataframe tbody tr th {\n",
       "        vertical-align: top;\n",
       "    }\n",
       "\n",
       "    .dataframe thead th {\n",
       "        text-align: right;\n",
       "    }\n",
       "</style>\n",
       "<table border=\"1\" class=\"dataframe\">\n",
       "  <thead>\n",
       "    <tr style=\"text-align: right;\">\n",
       "      <th></th>\n",
       "      <th>TRANSACTION_ID</th>\n",
       "      <th>TX_DATETIME</th>\n",
       "      <th>CUSTOMER_ID</th>\n",
       "      <th>TERMINAL_ID</th>\n",
       "      <th>TX_AMOUNT</th>\n",
       "      <th>TX_FRAUD</th>\n",
       "      <th>x_customer_id</th>\n",
       "      <th>y_customer_id</th>\n",
       "      <th>mean_amount</th>\n",
       "      <th>std_amount</th>\n",
       "      <th>mean_nb_tx_per_day</th>\n",
       "      <th>available_terminals</th>\n",
       "      <th>nb_terminals</th>\n",
       "      <th>x_terminal_id</th>\n",
       "      <th>y_terminal_id</th>\n",
       "    </tr>\n",
       "  </thead>\n",
       "  <tbody>\n",
       "    <tr>\n",
       "      <th>0</th>\n",
       "      <td>59383</td>\n",
       "      <td>2021-08-01 00:04:37</td>\n",
       "      <td>323</td>\n",
       "      <td>217</td>\n",
       "      <td>4.60</td>\n",
       "      <td>0</td>\n",
       "      <td>84.515409</td>\n",
       "      <td>38.276422</td>\n",
       "      <td>7.353061</td>\n",
       "      <td>3.676530</td>\n",
       "      <td>3.324124</td>\n",
       "      <td>[51, 68, 208, 217, 293, 353, 534, 717, 773, 86...</td>\n",
       "      <td>19</td>\n",
       "      <td>80.316334</td>\n",
       "      <td>40.239252</td>\n",
       "    </tr>\n",
       "    <tr>\n",
       "      <th>1</th>\n",
       "      <td>59384</td>\n",
       "      <td>2021-08-01 00:12:10</td>\n",
       "      <td>6</td>\n",
       "      <td>429</td>\n",
       "      <td>8.61</td>\n",
       "      <td>0</td>\n",
       "      <td>11.827443</td>\n",
       "      <td>63.992102</td>\n",
       "      <td>18.618562</td>\n",
       "      <td>9.309281</td>\n",
       "      <td>3.778676</td>\n",
       "      <td>[163, 172, 205, 429, 468, 607, 750, 786, 881, ...</td>\n",
       "      <td>16</td>\n",
       "      <td>15.172487</td>\n",
       "      <td>63.912685</td>\n",
       "    </tr>\n",
       "    <tr>\n",
       "      <th>2</th>\n",
       "      <td>59385</td>\n",
       "      <td>2021-08-01 00:12:34</td>\n",
       "      <td>714</td>\n",
       "      <td>1011</td>\n",
       "      <td>64.00</td>\n",
       "      <td>0</td>\n",
       "      <td>75.221083</td>\n",
       "      <td>94.991427</td>\n",
       "      <td>82.620413</td>\n",
       "      <td>41.310207</td>\n",
       "      <td>3.723765</td>\n",
       "      <td>[58, 799, 1011, 1021, 1228, 1347, 1443, 1462, ...</td>\n",
       "      <td>13</td>\n",
       "      <td>74.196424</td>\n",
       "      <td>98.288079</td>\n",
       "    </tr>\n",
       "    <tr>\n",
       "      <th>3</th>\n",
       "      <td>59386</td>\n",
       "      <td>2021-08-01 00:15:40</td>\n",
       "      <td>266</td>\n",
       "      <td>1969</td>\n",
       "      <td>12.72</td>\n",
       "      <td>0</td>\n",
       "      <td>51.122179</td>\n",
       "      <td>8.329098</td>\n",
       "      <td>9.852171</td>\n",
       "      <td>4.926085</td>\n",
       "      <td>3.862067</td>\n",
       "      <td>[27, 493, 584, 734, 820, 917, 1108, 1363, 1444...</td>\n",
       "      <td>15</td>\n",
       "      <td>51.950635</td>\n",
       "      <td>6.563484</td>\n",
       "    </tr>\n",
       "    <tr>\n",
       "      <th>4</th>\n",
       "      <td>59387</td>\n",
       "      <td>2021-08-01 00:16:01</td>\n",
       "      <td>890</td>\n",
       "      <td>1482</td>\n",
       "      <td>98.88</td>\n",
       "      <td>0</td>\n",
       "      <td>62.777887</td>\n",
       "      <td>31.405270</td>\n",
       "      <td>83.660035</td>\n",
       "      <td>41.830018</td>\n",
       "      <td>3.128315</td>\n",
       "      <td>[154, 177, 351, 444, 633, 739, 1018, 1056, 113...</td>\n",
       "      <td>20</td>\n",
       "      <td>62.417972</td>\n",
       "      <td>26.483666</td>\n",
       "    </tr>\n",
       "  </tbody>\n",
       "</table>\n",
       "</div>"
      ],
      "text/plain": [
       "   TRANSACTION_ID          TX_DATETIME  CUSTOMER_ID  TERMINAL_ID  TX_AMOUNT  \\\n",
       "0           59383  2021-08-01 00:04:37          323          217       4.60   \n",
       "1           59384  2021-08-01 00:12:10            6          429       8.61   \n",
       "2           59385  2021-08-01 00:12:34          714         1011      64.00   \n",
       "3           59386  2021-08-01 00:15:40          266         1969      12.72   \n",
       "4           59387  2021-08-01 00:16:01          890         1482      98.88   \n",
       "\n",
       "  TX_FRAUD  x_customer_id  y_customer_id  mean_amount  std_amount  \\\n",
       "0        0      84.515409      38.276422     7.353061    3.676530   \n",
       "1        0      11.827443      63.992102    18.618562    9.309281   \n",
       "2        0      75.221083      94.991427    82.620413   41.310207   \n",
       "3        0      51.122179       8.329098     9.852171    4.926085   \n",
       "4        0      62.777887      31.405270    83.660035   41.830018   \n",
       "\n",
       "   mean_nb_tx_per_day                                available_terminals  \\\n",
       "0            3.324124  [51, 68, 208, 217, 293, 353, 534, 717, 773, 86...   \n",
       "1            3.778676  [163, 172, 205, 429, 468, 607, 750, 786, 881, ...   \n",
       "2            3.723765  [58, 799, 1011, 1021, 1228, 1347, 1443, 1462, ...   \n",
       "3            3.862067  [27, 493, 584, 734, 820, 917, 1108, 1363, 1444...   \n",
       "4            3.128315  [154, 177, 351, 444, 633, 739, 1018, 1056, 113...   \n",
       "\n",
       "   nb_terminals  x_terminal_id  y_terminal_id  \n",
       "0            19      80.316334      40.239252  \n",
       "1            16      15.172487      63.912685  \n",
       "2            13      74.196424      98.288079  \n",
       "3            15      51.950635       6.563484  \n",
       "4            20      62.417972      26.483666  "
      ]
     },
     "execution_count": 34,
     "metadata": {},
     "output_type": "execute_result"
    }
   ],
   "source": [
    "# Merge train dataset with customer and terminal datasets to include customer and terminal information relevant to each transaction \n",
    "train_df = train_df.merge(customer_df, on='CUSTOMER_ID', how='left')\n",
    "train_df = train_df.merge(terminal_df, on='TERMINAL_ID', how='left')\n",
    "train_df.head()"
   ]
  },
  {
   "cell_type": "markdown",
   "metadata": {},
   "source": [
    "## Feature Enginering"
   ]
  },
  {
   "cell_type": "code",
   "execution_count": null,
   "metadata": {},
   "outputs": [],
   "source": [
    "# Create features that capture the behavior of transactions, customers, and terminals"
   ]
  },
  {
   "cell_type": "code",
   "execution_count": 35,
   "metadata": {},
   "outputs": [
    {
     "data": {
      "text/html": [
       "<div>\n",
       "<style scoped>\n",
       "    .dataframe tbody tr th:only-of-type {\n",
       "        vertical-align: middle;\n",
       "    }\n",
       "\n",
       "    .dataframe tbody tr th {\n",
       "        vertical-align: top;\n",
       "    }\n",
       "\n",
       "    .dataframe thead th {\n",
       "        text-align: right;\n",
       "    }\n",
       "</style>\n",
       "<table border=\"1\" class=\"dataframe\">\n",
       "  <thead>\n",
       "    <tr style=\"text-align: right;\">\n",
       "      <th></th>\n",
       "      <th>TRANSACTION_ID</th>\n",
       "      <th>TX_DATETIME</th>\n",
       "      <th>CUSTOMER_ID</th>\n",
       "      <th>TERMINAL_ID</th>\n",
       "      <th>TX_AMOUNT</th>\n",
       "      <th>TX_FRAUD</th>\n",
       "      <th>x_customer_id</th>\n",
       "      <th>y_customer_id</th>\n",
       "      <th>mean_amount</th>\n",
       "      <th>std_amount</th>\n",
       "      <th>mean_nb_tx_per_day</th>\n",
       "      <th>available_terminals</th>\n",
       "      <th>nb_terminals</th>\n",
       "      <th>x_terminal_id</th>\n",
       "      <th>y_terminal_id</th>\n",
       "      <th>distance</th>\n",
       "      <th>amount_deviation</th>\n",
       "    </tr>\n",
       "  </thead>\n",
       "  <tbody>\n",
       "    <tr>\n",
       "      <th>0</th>\n",
       "      <td>59383</td>\n",
       "      <td>2021-08-01 00:04:37</td>\n",
       "      <td>323</td>\n",
       "      <td>217</td>\n",
       "      <td>4.60</td>\n",
       "      <td>0</td>\n",
       "      <td>84.515409</td>\n",
       "      <td>38.276422</td>\n",
       "      <td>7.353061</td>\n",
       "      <td>3.676530</td>\n",
       "      <td>3.324124</td>\n",
       "      <td>[51, 68, 208, 217, 293, 353, 534, 717, 773, 86...</td>\n",
       "      <td>19</td>\n",
       "      <td>80.316334</td>\n",
       "      <td>40.239252</td>\n",
       "      <td>4.635184</td>\n",
       "      <td>2.753061</td>\n",
       "    </tr>\n",
       "    <tr>\n",
       "      <th>1</th>\n",
       "      <td>59384</td>\n",
       "      <td>2021-08-01 00:12:10</td>\n",
       "      <td>6</td>\n",
       "      <td>429</td>\n",
       "      <td>8.61</td>\n",
       "      <td>0</td>\n",
       "      <td>11.827443</td>\n",
       "      <td>63.992102</td>\n",
       "      <td>18.618562</td>\n",
       "      <td>9.309281</td>\n",
       "      <td>3.778676</td>\n",
       "      <td>[163, 172, 205, 429, 468, 607, 750, 786, 881, ...</td>\n",
       "      <td>16</td>\n",
       "      <td>15.172487</td>\n",
       "      <td>63.912685</td>\n",
       "      <td>3.345987</td>\n",
       "      <td>10.008562</td>\n",
       "    </tr>\n",
       "    <tr>\n",
       "      <th>2</th>\n",
       "      <td>59385</td>\n",
       "      <td>2021-08-01 00:12:34</td>\n",
       "      <td>714</td>\n",
       "      <td>1011</td>\n",
       "      <td>64.00</td>\n",
       "      <td>0</td>\n",
       "      <td>75.221083</td>\n",
       "      <td>94.991427</td>\n",
       "      <td>82.620413</td>\n",
       "      <td>41.310207</td>\n",
       "      <td>3.723765</td>\n",
       "      <td>[58, 799, 1011, 1021, 1228, 1347, 1443, 1462, ...</td>\n",
       "      <td>13</td>\n",
       "      <td>74.196424</td>\n",
       "      <td>98.288079</td>\n",
       "      <td>3.452222</td>\n",
       "      <td>18.620413</td>\n",
       "    </tr>\n",
       "    <tr>\n",
       "      <th>3</th>\n",
       "      <td>59386</td>\n",
       "      <td>2021-08-01 00:15:40</td>\n",
       "      <td>266</td>\n",
       "      <td>1969</td>\n",
       "      <td>12.72</td>\n",
       "      <td>0</td>\n",
       "      <td>51.122179</td>\n",
       "      <td>8.329098</td>\n",
       "      <td>9.852171</td>\n",
       "      <td>4.926085</td>\n",
       "      <td>3.862067</td>\n",
       "      <td>[27, 493, 584, 734, 820, 917, 1108, 1363, 1444...</td>\n",
       "      <td>15</td>\n",
       "      <td>51.950635</td>\n",
       "      <td>6.563484</td>\n",
       "      <td>1.950316</td>\n",
       "      <td>2.867829</td>\n",
       "    </tr>\n",
       "    <tr>\n",
       "      <th>4</th>\n",
       "      <td>59387</td>\n",
       "      <td>2021-08-01 00:16:01</td>\n",
       "      <td>890</td>\n",
       "      <td>1482</td>\n",
       "      <td>98.88</td>\n",
       "      <td>0</td>\n",
       "      <td>62.777887</td>\n",
       "      <td>31.405270</td>\n",
       "      <td>83.660035</td>\n",
       "      <td>41.830018</td>\n",
       "      <td>3.128315</td>\n",
       "      <td>[154, 177, 351, 444, 633, 739, 1018, 1056, 113...</td>\n",
       "      <td>20</td>\n",
       "      <td>62.417972</td>\n",
       "      <td>26.483666</td>\n",
       "      <td>4.934747</td>\n",
       "      <td>15.219965</td>\n",
       "    </tr>\n",
       "  </tbody>\n",
       "</table>\n",
       "</div>"
      ],
      "text/plain": [
       "   TRANSACTION_ID          TX_DATETIME  CUSTOMER_ID  TERMINAL_ID  TX_AMOUNT  \\\n",
       "0           59383  2021-08-01 00:04:37          323          217       4.60   \n",
       "1           59384  2021-08-01 00:12:10            6          429       8.61   \n",
       "2           59385  2021-08-01 00:12:34          714         1011      64.00   \n",
       "3           59386  2021-08-01 00:15:40          266         1969      12.72   \n",
       "4           59387  2021-08-01 00:16:01          890         1482      98.88   \n",
       "\n",
       "  TX_FRAUD  x_customer_id  y_customer_id  mean_amount  std_amount  \\\n",
       "0        0      84.515409      38.276422     7.353061    3.676530   \n",
       "1        0      11.827443      63.992102    18.618562    9.309281   \n",
       "2        0      75.221083      94.991427    82.620413   41.310207   \n",
       "3        0      51.122179       8.329098     9.852171    4.926085   \n",
       "4        0      62.777887      31.405270    83.660035   41.830018   \n",
       "\n",
       "   mean_nb_tx_per_day                                available_terminals  \\\n",
       "0            3.324124  [51, 68, 208, 217, 293, 353, 534, 717, 773, 86...   \n",
       "1            3.778676  [163, 172, 205, 429, 468, 607, 750, 786, 881, ...   \n",
       "2            3.723765  [58, 799, 1011, 1021, 1228, 1347, 1443, 1462, ...   \n",
       "3            3.862067  [27, 493, 584, 734, 820, 917, 1108, 1363, 1444...   \n",
       "4            3.128315  [154, 177, 351, 444, 633, 739, 1018, 1056, 113...   \n",
       "\n",
       "   nb_terminals  x_terminal_id  y_terminal_id  distance  amount_deviation  \n",
       "0            19      80.316334      40.239252  4.635184          2.753061  \n",
       "1            16      15.172487      63.912685  3.345987         10.008562  \n",
       "2            13      74.196424      98.288079  3.452222         18.620413  \n",
       "3            15      51.950635       6.563484  1.950316          2.867829  \n",
       "4            20      62.417972      26.483666  4.934747         15.219965  "
      ]
     },
     "execution_count": 35,
     "metadata": {},
     "output_type": "execute_result"
    }
   ],
   "source": [
    "# Calculate the distance between customer and terminal\n",
    "train_df['distance'] = np.sqrt((train_df['x_customer_id'] - train_df['x_terminal_id'])**2 + (train_df['y_customer_id'] - train_df['y_terminal_id'])**2)\n",
    "\n",
    "# Calculate the deviation of transaction amount from the customer's mean amount\n",
    "train_df['amount_deviation'] = np.abs(train_df['TX_AMOUNT'] - train_df['mean_amount'])\n",
    "\n",
    "train_df.head()"
   ]
  },
  {
   "cell_type": "code",
   "execution_count": 38,
   "metadata": {},
   "outputs": [
    {
     "data": {
      "text/html": [
       "<div>\n",
       "<style scoped>\n",
       "    .dataframe tbody tr th:only-of-type {\n",
       "        vertical-align: middle;\n",
       "    }\n",
       "\n",
       "    .dataframe tbody tr th {\n",
       "        vertical-align: top;\n",
       "    }\n",
       "\n",
       "    .dataframe thead th {\n",
       "        text-align: right;\n",
       "    }\n",
       "</style>\n",
       "<table border=\"1\" class=\"dataframe\">\n",
       "  <thead>\n",
       "    <tr style=\"text-align: right;\">\n",
       "      <th></th>\n",
       "      <th>TRANSACTION_ID</th>\n",
       "      <th>TX_DATETIME</th>\n",
       "      <th>CUSTOMER_ID</th>\n",
       "      <th>TERMINAL_ID</th>\n",
       "      <th>TX_AMOUNT</th>\n",
       "      <th>TX_FRAUD</th>\n",
       "      <th>x_customer_id</th>\n",
       "      <th>y_customer_id</th>\n",
       "      <th>mean_amount</th>\n",
       "      <th>std_amount</th>\n",
       "      <th>mean_nb_tx_per_day</th>\n",
       "      <th>available_terminals</th>\n",
       "      <th>nb_terminals</th>\n",
       "      <th>x_terminal_id</th>\n",
       "      <th>y_terminal_id</th>\n",
       "      <th>distance</th>\n",
       "      <th>amount_deviation</th>\n",
       "    </tr>\n",
       "  </thead>\n",
       "  <tbody>\n",
       "    <tr>\n",
       "      <th>291226</th>\n",
       "      <td>350609</td>\n",
       "      <td>2021-12-30 23:33:02</td>\n",
       "      <td>221</td>\n",
       "      <td>41</td>\n",
       "      <td>61.26</td>\n",
       "      <td>0</td>\n",
       "      <td>79.559037</td>\n",
       "      <td>34.453046</td>\n",
       "      <td>78.232912</td>\n",
       "      <td>39.116456</td>\n",
       "      <td>2.943576</td>\n",
       "      <td>[41, 68, 207, 232, 273, 293, 441, 695, 696, 70...</td>\n",
       "      <td>14</td>\n",
       "      <td>75.094243</td>\n",
       "      <td>34.889834</td>\n",
       "      <td>4.486108</td>\n",
       "      <td>16.972912</td>\n",
       "    </tr>\n",
       "    <tr>\n",
       "      <th>291227</th>\n",
       "      <td>350610</td>\n",
       "      <td>2021-12-30 23:46:15</td>\n",
       "      <td>101</td>\n",
       "      <td>761</td>\n",
       "      <td>58.80</td>\n",
       "      <td>0</td>\n",
       "      <td>86.948853</td>\n",
       "      <td>45.416240</td>\n",
       "      <td>36.036584</td>\n",
       "      <td>18.018292</td>\n",
       "      <td>0.930977</td>\n",
       "      <td>[208, 353, 357, 373, 457, 524, 534, 537, 761, ...</td>\n",
       "      <td>17</td>\n",
       "      <td>84.993054</td>\n",
       "      <td>43.465479</td>\n",
       "      <td>2.762357</td>\n",
       "      <td>22.763416</td>\n",
       "    </tr>\n",
       "    <tr>\n",
       "      <th>291228</th>\n",
       "      <td>350611</td>\n",
       "      <td>2021-12-30 23:54:38</td>\n",
       "      <td>7</td>\n",
       "      <td>1991</td>\n",
       "      <td>15.08</td>\n",
       "      <td>0</td>\n",
       "      <td>52.184832</td>\n",
       "      <td>41.466194</td>\n",
       "      <td>30.132783</td>\n",
       "      <td>15.066392</td>\n",
       "      <td>3.096935</td>\n",
       "      <td>[563, 612, 700, 705, 859, 1036, 1231, 1442, 14...</td>\n",
       "      <td>15</td>\n",
       "      <td>51.314901</td>\n",
       "      <td>42.942203</td>\n",
       "      <td>1.713296</td>\n",
       "      <td>15.052783</td>\n",
       "    </tr>\n",
       "    <tr>\n",
       "      <th>291229</th>\n",
       "      <td>350612</td>\n",
       "      <td>2021-12-30 23:56:36</td>\n",
       "      <td>161</td>\n",
       "      <td>1166</td>\n",
       "      <td>54.24</td>\n",
       "      <td>0</td>\n",
       "      <td>38.033518</td>\n",
       "      <td>14.780868</td>\n",
       "      <td>70.068772</td>\n",
       "      <td>35.034386</td>\n",
       "      <td>2.627048</td>\n",
       "      <td>[37, 325, 408, 440, 598, 655, 724, 806, 1034, ...</td>\n",
       "      <td>14</td>\n",
       "      <td>38.411423</td>\n",
       "      <td>14.674793</td>\n",
       "      <td>0.392509</td>\n",
       "      <td>15.828772</td>\n",
       "    </tr>\n",
       "    <tr>\n",
       "      <th>291230</th>\n",
       "      <td>350613</td>\n",
       "      <td>2021-12-30 23:58:21</td>\n",
       "      <td>618</td>\n",
       "      <td>1549</td>\n",
       "      <td>6.62</td>\n",
       "      <td>0</td>\n",
       "      <td>96.673774</td>\n",
       "      <td>53.470817</td>\n",
       "      <td>7.338380</td>\n",
       "      <td>3.669190</td>\n",
       "      <td>2.479088</td>\n",
       "      <td>[16, 100, 183, 549, 698, 747, 989, 1129, 1250,...</td>\n",
       "      <td>21</td>\n",
       "      <td>95.601958</td>\n",
       "      <td>56.461010</td>\n",
       "      <td>3.176482</td>\n",
       "      <td>0.718380</td>\n",
       "    </tr>\n",
       "  </tbody>\n",
       "</table>\n",
       "</div>"
      ],
      "text/plain": [
       "        TRANSACTION_ID          TX_DATETIME  CUSTOMER_ID  TERMINAL_ID  \\\n",
       "291226          350609  2021-12-30 23:33:02          221           41   \n",
       "291227          350610  2021-12-30 23:46:15          101          761   \n",
       "291228          350611  2021-12-30 23:54:38            7         1991   \n",
       "291229          350612  2021-12-30 23:56:36          161         1166   \n",
       "291230          350613  2021-12-30 23:58:21          618         1549   \n",
       "\n",
       "        TX_AMOUNT TX_FRAUD  x_customer_id  y_customer_id  mean_amount  \\\n",
       "291226      61.26        0      79.559037      34.453046    78.232912   \n",
       "291227      58.80        0      86.948853      45.416240    36.036584   \n",
       "291228      15.08        0      52.184832      41.466194    30.132783   \n",
       "291229      54.24        0      38.033518      14.780868    70.068772   \n",
       "291230       6.62        0      96.673774      53.470817     7.338380   \n",
       "\n",
       "        std_amount  mean_nb_tx_per_day  \\\n",
       "291226   39.116456            2.943576   \n",
       "291227   18.018292            0.930977   \n",
       "291228   15.066392            3.096935   \n",
       "291229   35.034386            2.627048   \n",
       "291230    3.669190            2.479088   \n",
       "\n",
       "                                      available_terminals  nb_terminals  \\\n",
       "291226  [41, 68, 207, 232, 273, 293, 441, 695, 696, 70...            14   \n",
       "291227  [208, 353, 357, 373, 457, 524, 534, 537, 761, ...            17   \n",
       "291228  [563, 612, 700, 705, 859, 1036, 1231, 1442, 14...            15   \n",
       "291229  [37, 325, 408, 440, 598, 655, 724, 806, 1034, ...            14   \n",
       "291230  [16, 100, 183, 549, 698, 747, 989, 1129, 1250,...            21   \n",
       "\n",
       "        x_terminal_id  y_terminal_id  distance  amount_deviation  \n",
       "291226      75.094243      34.889834  4.486108         16.972912  \n",
       "291227      84.993054      43.465479  2.762357         22.763416  \n",
       "291228      51.314901      42.942203  1.713296         15.052783  \n",
       "291229      38.411423      14.674793  0.392509         15.828772  \n",
       "291230      95.601958      56.461010  3.176482          0.718380  "
      ]
     },
     "execution_count": 38,
     "metadata": {},
     "output_type": "execute_result"
    }
   ],
   "source": [
    "# Using .tail() function to view the last few observations (i.e. records) of the dataset \n",
    "train_df.tail()"
   ]
  },
  {
   "cell_type": "code",
   "execution_count": 37,
   "metadata": {},
   "outputs": [
    {
     "name": "stdout",
     "output_type": "stream",
     "text": [
      "<class 'pandas.core.frame.DataFrame'>\n",
      "RangeIndex: 291231 entries, 0 to 291230\n",
      "Data columns (total 17 columns):\n",
      " #   Column               Non-Null Count   Dtype  \n",
      "---  ------               --------------   -----  \n",
      " 0   TRANSACTION_ID       291231 non-null  int64  \n",
      " 1   TX_DATETIME          291231 non-null  object \n",
      " 2   CUSTOMER_ID          291231 non-null  int64  \n",
      " 3   TERMINAL_ID          291231 non-null  int64  \n",
      " 4   TX_AMOUNT            291231 non-null  float64\n",
      " 5   TX_FRAUD             291231 non-null  object \n",
      " 6   x_customer_id        291231 non-null  float64\n",
      " 7   y_customer_id        291231 non-null  float64\n",
      " 8   mean_amount          291231 non-null  float64\n",
      " 9   std_amount           291231 non-null  float64\n",
      " 10  mean_nb_tx_per_day   291231 non-null  float64\n",
      " 11  available_terminals  291231 non-null  object \n",
      " 12  nb_terminals         291231 non-null  int64  \n",
      " 13  x_terminal_id        291231 non-null  float64\n",
      " 14  y_terminal_id        291231 non-null  float64\n",
      " 15  distance             291231 non-null  float64\n",
      " 16  amount_deviation     291231 non-null  float64\n",
      "dtypes: float64(10), int64(4), object(3)\n",
      "memory usage: 37.8+ MB\n"
     ]
    }
   ],
   "source": [
    "# Validating data on new training set\n",
    "train_df.info()"
   ]
  },
  {
   "cell_type": "code",
   "execution_count": null,
   "metadata": {},
   "outputs": [],
   "source": []
  },
  {
   "cell_type": "code",
   "execution_count": null,
   "metadata": {},
   "outputs": [],
   "source": [
    "''' \n",
    "# checking methods to balance classes\n",
    "\n",
    "from collections import Counter\n",
    "from sklearn.datasets import make_classification\n",
    "from imblearn.over_sampling import SMOTE\n",
    "\n",
    "X, y = make_classification(n_classes=2, class_sep=2,\n",
    "weights=[0.1, 0.9], n_informative=3, n_redundant=1, flip_y=0,\n",
    "n_features=20, n_clusters_per_class=1, n_samples=1000, random_state=10)\n",
    "\n",
    "print('Original dataset shape %s' % Counter(y))\n",
    "\n",
    "sm = SMOTE(random_state=42)\n",
    "X_res, y_res = sm.fit_resample(X, y)\n",
    "print('Resampled dataset shape %s' % Counter(y_res))\n",
    "'''"
   ]
  },
  {
   "cell_type": "code",
   "execution_count": null,
   "metadata": {},
   "outputs": [],
   "source": []
  }
 ],
 "metadata": {
  "kernelspec": {
   "display_name": "Python 3",
   "language": "python",
   "name": "python3"
  },
  "language_info": {
   "codemirror_mode": {
    "name": "ipython",
    "version": 3
   },
   "file_extension": ".py",
   "mimetype": "text/x-python",
   "name": "python",
   "nbconvert_exporter": "python",
   "pygments_lexer": "ipython3",
   "version": "3.11.5"
  }
 },
 "nbformat": 4,
 "nbformat_minor": 2
}
